{
 "cells": [
  {
   "cell_type": "code",
   "execution_count": 116,
   "metadata": {},
   "outputs": [],
   "source": [
    "import warnings\n",
    "warnings.filterwarnings('ignore')#anaconda warnings\n",
    "import pandas as pd\n",
    "import numpy as np\n",
    "from sklearn.model_selection import train_test_split\n",
    "from sklearn.preprocessing import OneHotEncoder\n",
    "from sklearn.preprocessing import StandardScaler\n",
    "%matplotlib inline\n",
    "import matplotlib as mpl\n",
    "import matplotlib.pyplot as plt\n",
    "import statsmodels.api as sm\n",
    "import statsmodels.api as sm\n",
    "np.random.seed(42)"
   ]
  },
  {
   "cell_type": "code",
   "execution_count": 37,
   "metadata": {},
   "outputs": [],
   "source": [
    "def plot_roc_curve(fpr, tpr, label=None):\n",
    "    plt.plot(fpr, tpr, linewidth=2, label=label)\n",
    "    plt.plot([0, 1], [0, 1], 'k--')\n",
    "    plt.axis([0, 1, 0, 1])\n",
    "    plt.xlabel('False Positive Rate', fontsize=16)\n",
    "    plt.ylabel('True Positive Rate', fontsize=16)"
   ]
  },
  {
   "cell_type": "markdown",
   "metadata": {},
   "source": [
    "# Preprocessing"
   ]
  },
  {
   "cell_type": "code",
   "execution_count": 3,
   "metadata": {},
   "outputs": [],
   "source": [
    "df = pd.read_csv(\"ICUPatients.csv\")"
   ]
  },
  {
   "cell_type": "code",
   "execution_count": 4,
   "metadata": {},
   "outputs": [],
   "source": [
    "df_encoded = pd.get_dummies(df)"
   ]
  },
  {
   "cell_type": "code",
   "execution_count": 5,
   "metadata": {},
   "outputs": [],
   "source": [
    "scaler = StandardScaler()\n",
    "df_scaled = pd.DataFrame(scaler.fit_transform(df_encoded),columns=df_encoded.columns)"
   ]
  },
  {
   "cell_type": "code",
   "execution_count": 6,
   "metadata": {},
   "outputs": [],
   "source": [
    "from sklearn.model_selection import train_test_split\n",
    "train, test = train_test_split(df_encoded, test_size = 0.2)"
   ]
  },
  {
   "cell_type": "code",
   "execution_count": 7,
   "metadata": {},
   "outputs": [],
   "source": [
    "train_yd = train.pop(\"death\")\n",
    "train_yr = train.pop(\"Readmitted\")\n",
    "test_yd = test.pop(\"death\")\n",
    "test_yr = test.pop(\"Readmitted\")"
   ]
  },
  {
   "cell_type": "code",
   "execution_count": 16,
   "metadata": {},
   "outputs": [
    {
     "name": "stdout",
     "output_type": "stream",
     "text": [
      "Balancing dataset for Train Death Counter({0: 10410, 1: 9996})\n",
      "Balancing dataset for Test Death Counter({1: 2618, 0: 2566})\n",
      "Balancing dataset for Train Readmitted Counter({0: 10886, 1: 10263})\n",
      "Balancing dataset for Test Readmitted Counter({0: 2698, 1: 2691})\n"
     ]
    }
   ],
   "source": [
    "from collections import Counter\n",
    "from imblearn.over_sampling import ADASYN\n",
    "\n",
    "sampler = ADASYN(random_state=0)\n",
    "b_train_d, b_train_yd = sampler.fit_sample(train, train_yd)\n",
    "print('Balancing dataset for Train Death {}'.format(Counter(b_train_yd)))\n",
    "\n",
    "sampler = ADASYN(random_state=0)\n",
    "b_test_d, b_test_yd = sampler.fit_sample(test, test_yd)\n",
    "print('Balancing dataset for Test Death {}'.format(Counter(b_test_yd)))\n",
    "\n",
    "sampler = ADASYN(random_state=0)\n",
    "b_train_r, b_train_yr = sampler.fit_sample(train, train_yr)\n",
    "print('Balancing dataset for Train Readmitted {}'.format(Counter(b_train_yr)))\n",
    "\n",
    "sampler = ADASYN(random_state=0)\n",
    "b_test_r, b_test_yr = sampler.fit_sample(test, test_yr)\n",
    "print('Balancing dataset for Test Readmitted {}'.format(Counter(b_test_yr)))"
   ]
  },
  {
   "cell_type": "code",
   "execution_count": 18,
   "metadata": {},
   "outputs": [
    {
     "name": "stdout",
     "output_type": "stream",
     "text": [
      "Fitting estimator with 59 features.\n",
      "Fitting estimator with 49 features.\n",
      "Fitting estimator with 39 features.\n"
     ]
    }
   ],
   "source": [
    "from sklearn.feature_selection import RFE\n",
    "from sklearn.linear_model import LogisticRegression\n",
    "\n",
    "rfe_selector = RFE(estimator=LogisticRegression(), n_features_to_select=None, step=10, verbose=5)\n",
    "rfe_selector.fit(train, train_yd)\n",
    "rfe_support = rfe_selector.get_support()\n",
    "rfe_feature =train.loc[:,rfe_support]"
   ]
  },
  {
   "cell_type": "markdown",
   "metadata": {},
   "source": [
    "# Training"
   ]
  },
  {
   "cell_type": "code",
   "execution_count": 114,
   "metadata": {},
   "outputs": [
    {
     "data": {
      "text/plain": [
       "Patientid            -0.015170\n",
       "Age                   0.177991\n",
       "LOS                   0.073823\n",
       "previous_LOS          0.058586\n",
       "previous_ICU_stays   -0.007155\n",
       "Charlson_index        0.002592\n",
       "Name: death, dtype: float64"
      ]
     },
     "execution_count": 114,
     "metadata": {},
     "output_type": "execute_result"
    }
   ],
   "source": [
    "df.corr()['death'][:6]"
   ]
  },
  {
   "cell_type": "code",
   "execution_count": 115,
   "metadata": {
    "scrolled": true
   },
   "outputs": [
    {
     "data": {
      "text/plain": [
       "Patientid            -0.007021\n",
       "Age                   0.041844\n",
       "LOS                  -0.011790\n",
       "previous_LOS          0.062318\n",
       "previous_ICU_stays    0.040352\n",
       "Charlson_index        0.005481\n",
       "Name: Readmitted, dtype: float64"
      ]
     },
     "execution_count": 115,
     "metadata": {},
     "output_type": "execute_result"
    }
   ],
   "source": [
    "df.corr()['Readmitted'][:6]"
   ]
  },
  {
   "cell_type": "code",
   "execution_count": 128,
   "metadata": {},
   "outputs": [
    {
     "data": {
      "text/html": [
       "<table class=\"simpletable\">\n",
       "<caption>OLS Regression Results</caption>\n",
       "<tr>\n",
       "  <th>Dep. Variable:</th>          <td>death</td>      <th>  R-squared:         </th> <td>   0.505</td>\n",
       "</tr>\n",
       "<tr>\n",
       "  <th>Model:</th>                   <td>OLS</td>       <th>  Adj. R-squared:    </th> <td>   0.503</td>\n",
       "</tr>\n",
       "<tr>\n",
       "  <th>Method:</th>             <td>Least Squares</td>  <th>  F-statistic:       </th> <td>   237.4</td>\n",
       "</tr>\n",
       "<tr>\n",
       "  <th>Date:</th>             <td>Wed, 15 Jan 2020</td> <th>  Prob (F-statistic):</th>  <td>  0.00</td> \n",
       "</tr>\n",
       "<tr>\n",
       "  <th>Time:</th>                 <td>20:15:33</td>     <th>  Log-Likelihood:    </th> <td> -1680.8</td>\n",
       "</tr>\n",
       "<tr>\n",
       "  <th>No. Observations:</th>      <td> 12847</td>      <th>  AIC:               </th> <td>   3474.</td>\n",
       "</tr>\n",
       "<tr>\n",
       "  <th>Df Residuals:</th>          <td> 12791</td>      <th>  BIC:               </th> <td>   3891.</td>\n",
       "</tr>\n",
       "<tr>\n",
       "  <th>Df Model:</th>              <td>    55</td>      <th>                     </th>     <td> </td>   \n",
       "</tr>\n",
       "<tr>\n",
       "  <th>Covariance Type:</th>      <td>nonrobust</td>    <th>                     </th>     <td> </td>   \n",
       "</tr>\n",
       "</table>\n",
       "<table class=\"simpletable\">\n",
       "<tr>\n",
       "                <td></td>                  <th>coef</th>     <th>std err</th>      <th>t</th>      <th>P>|t|</th>  <th>[0.025</th>    <th>0.975]</th>  \n",
       "</tr>\n",
       "<tr>\n",
       "  <th>Patientid</th>                    <td> 7.262e-08</td> <td> 4.07e-08</td> <td>    1.786</td> <td> 0.074</td> <td>-7.08e-09</td> <td> 1.52e-07</td>\n",
       "</tr>\n",
       "<tr>\n",
       "  <th>Age</th>                          <td>    0.0019</td> <td>    0.000</td> <td>   12.828</td> <td> 0.000</td> <td>    0.002</td> <td>    0.002</td>\n",
       "</tr>\n",
       "<tr>\n",
       "  <th>LOS</th>                          <td>-2.893e-06</td> <td> 1.27e-05</td> <td>   -0.228</td> <td> 0.819</td> <td>-2.77e-05</td> <td>  2.2e-05</td>\n",
       "</tr>\n",
       "<tr>\n",
       "  <th>previous_LOS</th>                 <td>    0.0002</td> <td> 3.02e-05</td> <td>    6.037</td> <td> 0.000</td> <td>    0.000</td> <td>    0.000</td>\n",
       "</tr>\n",
       "<tr>\n",
       "  <th>previous_ICU_stays</th>           <td>   -0.0081</td> <td>    0.005</td> <td>   -1.588</td> <td> 0.112</td> <td>   -0.018</td> <td>    0.002</td>\n",
       "</tr>\n",
       "<tr>\n",
       "  <th>Charlson_index</th>               <td>    0.0026</td> <td>    0.008</td> <td>    0.327</td> <td> 0.744</td> <td>   -0.013</td> <td>    0.018</td>\n",
       "</tr>\n",
       "<tr>\n",
       "  <th>weekend</th>                      <td>    0.0176</td> <td>    0.006</td> <td>    3.171</td> <td> 0.002</td> <td>    0.007</td> <td>    0.028</td>\n",
       "</tr>\n",
       "<tr>\n",
       "  <th>disch_night</th>                  <td>    0.0444</td> <td>    0.006</td> <td>    7.820</td> <td> 0.000</td> <td>    0.033</td> <td>    0.056</td>\n",
       "</tr>\n",
       "<tr>\n",
       "  <th>cvc_status</th>                   <td>   -0.0016</td> <td>    0.006</td> <td>   -0.282</td> <td> 0.778</td> <td>   -0.013</td> <td>    0.010</td>\n",
       "</tr>\n",
       "<tr>\n",
       "  <th>SIRS_48_hour</th>                 <td>    0.0418</td> <td>    0.005</td> <td>    8.020</td> <td> 0.000</td> <td>    0.032</td> <td>    0.052</td>\n",
       "</tr>\n",
       "<tr>\n",
       "  <th>MV_24_hour</th>                   <td>    0.0460</td> <td>    0.006</td> <td>    7.309</td> <td> 0.000</td> <td>    0.034</td> <td>    0.058</td>\n",
       "</tr>\n",
       "<tr>\n",
       "  <th>Initial_SOFA_Liver</th>           <td>   6.1e-05</td> <td>    0.008</td> <td>    0.008</td> <td> 0.994</td> <td>   -0.016</td> <td>    0.016</td>\n",
       "</tr>\n",
       "<tr>\n",
       "  <th>Initial_SOFA_Coagulation</th>     <td>   -0.0122</td> <td>    0.006</td> <td>   -2.202</td> <td> 0.028</td> <td>   -0.023</td> <td>   -0.001</td>\n",
       "</tr>\n",
       "<tr>\n",
       "  <th>Initial_SOFA_Nerv</th>            <td>   -0.0017</td> <td>    0.003</td> <td>   -0.619</td> <td> 0.536</td> <td>   -0.007</td> <td>    0.004</td>\n",
       "</tr>\n",
       "<tr>\n",
       "  <th>Initial_SOFA_Renal</th>           <td>    0.0010</td> <td>    0.006</td> <td>    0.175</td> <td> 0.861</td> <td>   -0.010</td> <td>    0.012</td>\n",
       "</tr>\n",
       "<tr>\n",
       "  <th>Initial_SOFA_Respiratory</th>     <td>    0.0044</td> <td>    0.005</td> <td>    0.849</td> <td> 0.396</td> <td>   -0.006</td> <td>    0.015</td>\n",
       "</tr>\n",
       "<tr>\n",
       "  <th>Initial_SOFA_Cardio</th>          <td>    0.0004</td> <td>    0.004</td> <td>    0.094</td> <td> 0.925</td> <td>   -0.008</td> <td>    0.008</td>\n",
       "</tr>\n",
       "<tr>\n",
       "  <th>Discharge_SOFA_Liver</th>         <td>    0.0406</td> <td>    0.010</td> <td>    3.987</td> <td> 0.000</td> <td>    0.021</td> <td>    0.061</td>\n",
       "</tr>\n",
       "<tr>\n",
       "  <th>Discharge_SOFA_Coagulation</th>   <td>    0.0214</td> <td>    0.007</td> <td>    3.211</td> <td> 0.001</td> <td>    0.008</td> <td>    0.035</td>\n",
       "</tr>\n",
       "<tr>\n",
       "  <th>Discharge_SOFA_Nerv</th>          <td>    0.1084</td> <td>    0.004</td> <td>   26.608</td> <td> 0.000</td> <td>    0.100</td> <td>    0.116</td>\n",
       "</tr>\n",
       "<tr>\n",
       "  <th>Discharge_SOFA_Renal</th>         <td>    0.0362</td> <td>    0.008</td> <td>    4.795</td> <td> 0.000</td> <td>    0.021</td> <td>    0.051</td>\n",
       "</tr>\n",
       "<tr>\n",
       "  <th>Discharge_SOFA_Respiratory</th>   <td>    0.0524</td> <td>    0.007</td> <td>    7.101</td> <td> 0.000</td> <td>    0.038</td> <td>    0.067</td>\n",
       "</tr>\n",
       "<tr>\n",
       "  <th>Discharge_SOFA_Cardio</th>        <td>    0.0435</td> <td>    0.005</td> <td>    8.162</td> <td> 0.000</td> <td>    0.033</td> <td>    0.054</td>\n",
       "</tr>\n",
       "<tr>\n",
       "  <th>Max_SOFA_Liver</th>               <td>    0.0020</td> <td>    0.013</td> <td>    0.157</td> <td> 0.876</td> <td>   -0.023</td> <td>    0.027</td>\n",
       "</tr>\n",
       "<tr>\n",
       "  <th>Max_SOFA_Coagulation</th>         <td>   -0.0021</td> <td>    0.008</td> <td>   -0.258</td> <td> 0.797</td> <td>   -0.018</td> <td>    0.014</td>\n",
       "</tr>\n",
       "<tr>\n",
       "  <th>Max_SOFA_Nerv</th>                <td>   -0.0090</td> <td>    0.004</td> <td>   -2.067</td> <td> 0.039</td> <td>   -0.018</td> <td>   -0.000</td>\n",
       "</tr>\n",
       "<tr>\n",
       "  <th>Max_SOFA_Renal</th>               <td>    0.0162</td> <td>    0.009</td> <td>    1.757</td> <td> 0.079</td> <td>   -0.002</td> <td>    0.034</td>\n",
       "</tr>\n",
       "<tr>\n",
       "  <th>Max_SOFA_Respiratory</th>         <td>   -0.0091</td> <td>    0.006</td> <td>   -1.406</td> <td> 0.160</td> <td>   -0.022</td> <td>    0.004</td>\n",
       "</tr>\n",
       "<tr>\n",
       "  <th>Max_SOFA_Cardio</th>              <td>    0.0004</td> <td>    0.005</td> <td>    0.067</td> <td> 0.947</td> <td>   -0.010</td> <td>    0.011</td>\n",
       "</tr>\n",
       "<tr>\n",
       "  <th>Aver_SOFA_Liver</th>              <td>   -0.0161</td> <td>    0.016</td> <td>   -1.013</td> <td> 0.311</td> <td>   -0.047</td> <td>    0.015</td>\n",
       "</tr>\n",
       "<tr>\n",
       "  <th>Aver_SOFA_Coagulation</th>        <td>    0.0163</td> <td>    0.012</td> <td>    1.363</td> <td> 0.173</td> <td>   -0.007</td> <td>    0.040</td>\n",
       "</tr>\n",
       "<tr>\n",
       "  <th>Aver_SOFA_Nerv</th>               <td>    0.0017</td> <td>    0.006</td> <td>    0.307</td> <td> 0.759</td> <td>   -0.009</td> <td>    0.013</td>\n",
       "</tr>\n",
       "<tr>\n",
       "  <th>Aver_SOFA_Renal</th>              <td>   -0.0425</td> <td>    0.012</td> <td>   -3.641</td> <td> 0.000</td> <td>   -0.065</td> <td>   -0.020</td>\n",
       "</tr>\n",
       "<tr>\n",
       "  <th>Aver_SOFA_Respiratory</th>        <td>   -0.0330</td> <td>    0.011</td> <td>   -3.009</td> <td> 0.003</td> <td>   -0.054</td> <td>   -0.011</td>\n",
       "</tr>\n",
       "<tr>\n",
       "  <th>Aver_SOFA_Cardio</th>             <td>    0.0012</td> <td>    0.008</td> <td>    0.151</td> <td> 0.880</td> <td>   -0.015</td> <td>    0.017</td>\n",
       "</tr>\n",
       "<tr>\n",
       "  <th>Var_SOFA_Liver</th>               <td>   -0.0294</td> <td>    0.023</td> <td>   -1.258</td> <td> 0.208</td> <td>   -0.075</td> <td>    0.016</td>\n",
       "</tr>\n",
       "<tr>\n",
       "  <th>Var_SOFA_Coagulation</th>         <td>   -0.0061</td> <td>    0.016</td> <td>   -0.380</td> <td> 0.704</td> <td>   -0.037</td> <td>    0.025</td>\n",
       "</tr>\n",
       "<tr>\n",
       "  <th>var_SOFA_Nerv</th>                <td>   -0.0021</td> <td>    0.005</td> <td>   -0.446</td> <td> 0.656</td> <td>   -0.011</td> <td>    0.007</td>\n",
       "</tr>\n",
       "<tr>\n",
       "  <th>Var_SOFA_Renal</th>               <td>    0.0393</td> <td>    0.018</td> <td>    2.216</td> <td> 0.027</td> <td>    0.005</td> <td>    0.074</td>\n",
       "</tr>\n",
       "<tr>\n",
       "  <th>Var_SOFA_Respiratory</th>         <td>    0.0991</td> <td>    0.015</td> <td>    6.556</td> <td> 0.000</td> <td>    0.069</td> <td>    0.129</td>\n",
       "</tr>\n",
       "<tr>\n",
       "  <th>Var_SOFA_Cardio</th>              <td>   -0.0035</td> <td>    0.008</td> <td>   -0.447</td> <td> 0.655</td> <td>   -0.019</td> <td>    0.012</td>\n",
       "</tr>\n",
       "<tr>\n",
       "  <th>AdmitApache</th>                  <td>    0.0002</td> <td>    0.000</td> <td>    0.573</td> <td> 0.567</td> <td>   -0.000</td> <td>    0.001</td>\n",
       "</tr>\n",
       "<tr>\n",
       "  <th>DischargeApache</th>              <td>    0.0046</td> <td>    0.000</td> <td>   15.093</td> <td> 0.000</td> <td>    0.004</td> <td>    0.005</td>\n",
       "</tr>\n",
       "<tr>\n",
       "  <th>MeanApache</th>                   <td>   -0.0008</td> <td>    0.001</td> <td>   -1.513</td> <td> 0.130</td> <td>   -0.002</td> <td>    0.000</td>\n",
       "</tr>\n",
       "<tr>\n",
       "  <th>MaxApache</th>                    <td>    0.0003</td> <td>    0.000</td> <td>    0.823</td> <td> 0.411</td> <td>   -0.000</td> <td>    0.001</td>\n",
       "</tr>\n",
       "<tr>\n",
       "  <th>ICU Type_Cardiac</th>             <td>   -0.0544</td> <td>    0.008</td> <td>   -6.932</td> <td> 0.000</td> <td>   -0.070</td> <td>   -0.039</td>\n",
       "</tr>\n",
       "<tr>\n",
       "  <th>ICU Type_Cardiac-T</th>           <td>   -0.0836</td> <td>    0.009</td> <td>   -9.510</td> <td> 0.000</td> <td>   -0.101</td> <td>   -0.066</td>\n",
       "</tr>\n",
       "<tr>\n",
       "  <th>ICU Type_Medical</th>             <td>   -0.0151</td> <td>    0.008</td> <td>   -2.000</td> <td> 0.046</td> <td>   -0.030</td> <td>   -0.000</td>\n",
       "</tr>\n",
       "<tr>\n",
       "  <th>ICU Type_Neuro</th>               <td>   -0.0184</td> <td>    0.006</td> <td>   -2.847</td> <td> 0.004</td> <td>   -0.031</td> <td>   -0.006</td>\n",
       "</tr>\n",
       "<tr>\n",
       "  <th>ICU Type_Surgical</th>            <td>   -0.0462</td> <td>    0.007</td> <td>   -6.672</td> <td> 0.000</td> <td>   -0.060</td> <td>   -0.033</td>\n",
       "</tr>\n",
       "<tr>\n",
       "  <th>ICU Type_Transplant</th>          <td>   -0.0521</td> <td>    0.007</td> <td>   -7.070</td> <td> 0.000</td> <td>   -0.067</td> <td>   -0.038</td>\n",
       "</tr>\n",
       "<tr>\n",
       "  <th>ICU Type_Trauma</th>              <td>   -0.0557</td> <td>    0.013</td> <td>   -4.260</td> <td> 0.000</td> <td>   -0.081</td> <td>   -0.030</td>\n",
       "</tr>\n",
       "<tr>\n",
       "  <th>Origin Level of Care_HOME</th>    <td>   -0.1049</td> <td>    0.007</td> <td>  -14.529</td> <td> 0.000</td> <td>   -0.119</td> <td>   -0.091</td>\n",
       "</tr>\n",
       "<tr>\n",
       "  <th>Origin Level of Care_Regular</th> <td>   -0.1107</td> <td>    0.008</td> <td>  -13.325</td> <td> 0.000</td> <td>   -0.127</td> <td>   -0.094</td>\n",
       "</tr>\n",
       "<tr>\n",
       "  <th>Origin Level of Care_SDU</th>     <td>   -0.1099</td> <td>    0.008</td> <td>  -14.199</td> <td> 0.000</td> <td>   -0.125</td> <td>   -0.095</td>\n",
       "</tr>\n",
       "<tr>\n",
       "  <th>Sex_F</th>                        <td>   -0.1588</td> <td>    0.010</td> <td>  -15.735</td> <td> 0.000</td> <td>   -0.179</td> <td>   -0.139</td>\n",
       "</tr>\n",
       "<tr>\n",
       "  <th>Sex_M</th>                        <td>   -0.1668</td> <td>    0.010</td> <td>  -16.746</td> <td> 0.000</td> <td>   -0.186</td> <td>   -0.147</td>\n",
       "</tr>\n",
       "<tr>\n",
       "  <th>Type_MED</th>                     <td>   -0.1459</td> <td>    0.010</td> <td>  -14.271</td> <td> 0.000</td> <td>   -0.166</td> <td>   -0.126</td>\n",
       "</tr>\n",
       "<tr>\n",
       "  <th>Type_SURG</th>                    <td>   -0.1797</td> <td>    0.010</td> <td>  -18.088</td> <td> 0.000</td> <td>   -0.199</td> <td>   -0.160</td>\n",
       "</tr>\n",
       "</table>\n",
       "<table class=\"simpletable\">\n",
       "<tr>\n",
       "  <th>Omnibus:</th>       <td>2367.110</td> <th>  Durbin-Watson:     </th> <td>   2.025</td>\n",
       "</tr>\n",
       "<tr>\n",
       "  <th>Prob(Omnibus):</th>  <td> 0.000</td>  <th>  Jarque-Bera (JB):  </th> <td>6704.587</td>\n",
       "</tr>\n",
       "<tr>\n",
       "  <th>Skew:</th>           <td> 0.978</td>  <th>  Prob(JB):          </th> <td>    0.00</td>\n",
       "</tr>\n",
       "<tr>\n",
       "  <th>Kurtosis:</th>       <td> 5.949</td>  <th>  Cond. No.          </th> <td>1.00e+16</td>\n",
       "</tr>\n",
       "</table><br/><br/>Warnings:<br/>[1] Standard Errors assume that the covariance matrix of the errors is correctly specified.<br/>[2] The smallest eigenvalue is 1.47e-17. This might indicate that there are<br/>strong multicollinearity problems or that the design matrix is singular."
      ],
      "text/plain": [
       "<class 'statsmodels.iolib.summary.Summary'>\n",
       "\"\"\"\n",
       "                            OLS Regression Results                            \n",
       "==============================================================================\n",
       "Dep. Variable:                  death   R-squared:                       0.505\n",
       "Model:                            OLS   Adj. R-squared:                  0.503\n",
       "Method:                 Least Squares   F-statistic:                     237.4\n",
       "Date:                Wed, 15 Jan 2020   Prob (F-statistic):               0.00\n",
       "Time:                        20:15:33   Log-Likelihood:                -1680.8\n",
       "No. Observations:               12847   AIC:                             3474.\n",
       "Df Residuals:                   12791   BIC:                             3891.\n",
       "Df Model:                          55                                         \n",
       "Covariance Type:            nonrobust                                         \n",
       "================================================================================================\n",
       "                                   coef    std err          t      P>|t|      [0.025      0.975]\n",
       "------------------------------------------------------------------------------------------------\n",
       "Patientid                     7.262e-08   4.07e-08      1.786      0.074   -7.08e-09    1.52e-07\n",
       "Age                              0.0019      0.000     12.828      0.000       0.002       0.002\n",
       "LOS                          -2.893e-06   1.27e-05     -0.228      0.819   -2.77e-05     2.2e-05\n",
       "previous_LOS                     0.0002   3.02e-05      6.037      0.000       0.000       0.000\n",
       "previous_ICU_stays              -0.0081      0.005     -1.588      0.112      -0.018       0.002\n",
       "Charlson_index                   0.0026      0.008      0.327      0.744      -0.013       0.018\n",
       "weekend                          0.0176      0.006      3.171      0.002       0.007       0.028\n",
       "disch_night                      0.0444      0.006      7.820      0.000       0.033       0.056\n",
       "cvc_status                      -0.0016      0.006     -0.282      0.778      -0.013       0.010\n",
       "SIRS_48_hour                     0.0418      0.005      8.020      0.000       0.032       0.052\n",
       "MV_24_hour                       0.0460      0.006      7.309      0.000       0.034       0.058\n",
       "Initial_SOFA_Liver              6.1e-05      0.008      0.008      0.994      -0.016       0.016\n",
       "Initial_SOFA_Coagulation        -0.0122      0.006     -2.202      0.028      -0.023      -0.001\n",
       "Initial_SOFA_Nerv               -0.0017      0.003     -0.619      0.536      -0.007       0.004\n",
       "Initial_SOFA_Renal               0.0010      0.006      0.175      0.861      -0.010       0.012\n",
       "Initial_SOFA_Respiratory         0.0044      0.005      0.849      0.396      -0.006       0.015\n",
       "Initial_SOFA_Cardio              0.0004      0.004      0.094      0.925      -0.008       0.008\n",
       "Discharge_SOFA_Liver             0.0406      0.010      3.987      0.000       0.021       0.061\n",
       "Discharge_SOFA_Coagulation       0.0214      0.007      3.211      0.001       0.008       0.035\n",
       "Discharge_SOFA_Nerv              0.1084      0.004     26.608      0.000       0.100       0.116\n",
       "Discharge_SOFA_Renal             0.0362      0.008      4.795      0.000       0.021       0.051\n",
       "Discharge_SOFA_Respiratory       0.0524      0.007      7.101      0.000       0.038       0.067\n",
       "Discharge_SOFA_Cardio            0.0435      0.005      8.162      0.000       0.033       0.054\n",
       "Max_SOFA_Liver                   0.0020      0.013      0.157      0.876      -0.023       0.027\n",
       "Max_SOFA_Coagulation            -0.0021      0.008     -0.258      0.797      -0.018       0.014\n",
       "Max_SOFA_Nerv                   -0.0090      0.004     -2.067      0.039      -0.018      -0.000\n",
       "Max_SOFA_Renal                   0.0162      0.009      1.757      0.079      -0.002       0.034\n",
       "Max_SOFA_Respiratory            -0.0091      0.006     -1.406      0.160      -0.022       0.004\n",
       "Max_SOFA_Cardio                  0.0004      0.005      0.067      0.947      -0.010       0.011\n",
       "Aver_SOFA_Liver                 -0.0161      0.016     -1.013      0.311      -0.047       0.015\n",
       "Aver_SOFA_Coagulation            0.0163      0.012      1.363      0.173      -0.007       0.040\n",
       "Aver_SOFA_Nerv                   0.0017      0.006      0.307      0.759      -0.009       0.013\n",
       "Aver_SOFA_Renal                 -0.0425      0.012     -3.641      0.000      -0.065      -0.020\n",
       "Aver_SOFA_Respiratory           -0.0330      0.011     -3.009      0.003      -0.054      -0.011\n",
       "Aver_SOFA_Cardio                 0.0012      0.008      0.151      0.880      -0.015       0.017\n",
       "Var_SOFA_Liver                  -0.0294      0.023     -1.258      0.208      -0.075       0.016\n",
       "Var_SOFA_Coagulation            -0.0061      0.016     -0.380      0.704      -0.037       0.025\n",
       "var_SOFA_Nerv                   -0.0021      0.005     -0.446      0.656      -0.011       0.007\n",
       "Var_SOFA_Renal                   0.0393      0.018      2.216      0.027       0.005       0.074\n",
       "Var_SOFA_Respiratory             0.0991      0.015      6.556      0.000       0.069       0.129\n",
       "Var_SOFA_Cardio                 -0.0035      0.008     -0.447      0.655      -0.019       0.012\n",
       "AdmitApache                      0.0002      0.000      0.573      0.567      -0.000       0.001\n",
       "DischargeApache                  0.0046      0.000     15.093      0.000       0.004       0.005\n",
       "MeanApache                      -0.0008      0.001     -1.513      0.130      -0.002       0.000\n",
       "MaxApache                        0.0003      0.000      0.823      0.411      -0.000       0.001\n",
       "ICU Type_Cardiac                -0.0544      0.008     -6.932      0.000      -0.070      -0.039\n",
       "ICU Type_Cardiac-T              -0.0836      0.009     -9.510      0.000      -0.101      -0.066\n",
       "ICU Type_Medical                -0.0151      0.008     -2.000      0.046      -0.030      -0.000\n",
       "ICU Type_Neuro                  -0.0184      0.006     -2.847      0.004      -0.031      -0.006\n",
       "ICU Type_Surgical               -0.0462      0.007     -6.672      0.000      -0.060      -0.033\n",
       "ICU Type_Transplant             -0.0521      0.007     -7.070      0.000      -0.067      -0.038\n",
       "ICU Type_Trauma                 -0.0557      0.013     -4.260      0.000      -0.081      -0.030\n",
       "Origin Level of Care_HOME       -0.1049      0.007    -14.529      0.000      -0.119      -0.091\n",
       "Origin Level of Care_Regular    -0.1107      0.008    -13.325      0.000      -0.127      -0.094\n",
       "Origin Level of Care_SDU        -0.1099      0.008    -14.199      0.000      -0.125      -0.095\n",
       "Sex_F                           -0.1588      0.010    -15.735      0.000      -0.179      -0.139\n",
       "Sex_M                           -0.1668      0.010    -16.746      0.000      -0.186      -0.147\n",
       "Type_MED                        -0.1459      0.010    -14.271      0.000      -0.166      -0.126\n",
       "Type_SURG                       -0.1797      0.010    -18.088      0.000      -0.199      -0.160\n",
       "==============================================================================\n",
       "Omnibus:                     2367.110   Durbin-Watson:                   2.025\n",
       "Prob(Omnibus):                  0.000   Jarque-Bera (JB):             6704.587\n",
       "Skew:                           0.978   Prob(JB):                         0.00\n",
       "Kurtosis:                       5.949   Cond. No.                     1.00e+16\n",
       "==============================================================================\n",
       "\n",
       "Warnings:\n",
       "[1] Standard Errors assume that the covariance matrix of the errors is correctly specified.\n",
       "[2] The smallest eigenvalue is 1.47e-17. This might indicate that there are\n",
       "strong multicollinearity problems or that the design matrix is singular.\n",
       "\"\"\""
      ]
     },
     "execution_count": 128,
     "metadata": {},
     "output_type": "execute_result"
    }
   ],
   "source": [
    "sm.OLS(train_yd, train).fit().summary()"
   ]
  },
  {
   "cell_type": "code",
   "execution_count": 127,
   "metadata": {},
   "outputs": [
    {
     "data": {
      "text/html": [
       "<table class=\"simpletable\">\n",
       "<caption>OLS Regression Results</caption>\n",
       "<tr>\n",
       "  <th>Dep. Variable:</th>       <td>Readmitted</td>    <th>  R-squared:         </th> <td>   0.089</td> \n",
       "</tr>\n",
       "<tr>\n",
       "  <th>Model:</th>                   <td>OLS</td>       <th>  Adj. R-squared:    </th> <td>   0.085</td> \n",
       "</tr>\n",
       "<tr>\n",
       "  <th>Method:</th>             <td>Least Squares</td>  <th>  F-statistic:       </th> <td>   22.67</td> \n",
       "</tr>\n",
       "<tr>\n",
       "  <th>Date:</th>             <td>Wed, 15 Jan 2020</td> <th>  Prob (F-statistic):</th> <td>2.39e-213</td>\n",
       "</tr>\n",
       "<tr>\n",
       "  <th>Time:</th>                 <td>20:15:19</td>     <th>  Log-Likelihood:    </th> <td> -4493.7</td> \n",
       "</tr>\n",
       "<tr>\n",
       "  <th>No. Observations:</th>      <td> 12847</td>      <th>  AIC:               </th> <td>   9099.</td> \n",
       "</tr>\n",
       "<tr>\n",
       "  <th>Df Residuals:</th>          <td> 12791</td>      <th>  BIC:               </th> <td>   9517.</td> \n",
       "</tr>\n",
       "<tr>\n",
       "  <th>Df Model:</th>              <td>    55</td>      <th>                     </th>     <td> </td>    \n",
       "</tr>\n",
       "<tr>\n",
       "  <th>Covariance Type:</th>      <td>nonrobust</td>    <th>                     </th>     <td> </td>    \n",
       "</tr>\n",
       "</table>\n",
       "<table class=\"simpletable\">\n",
       "<tr>\n",
       "                <td></td>                  <th>coef</th>     <th>std err</th>      <th>t</th>      <th>P>|t|</th>  <th>[0.025</th>    <th>0.975]</th>  \n",
       "</tr>\n",
       "<tr>\n",
       "  <th>Patientid</th>                    <td>  1.19e-07</td> <td> 5.06e-08</td> <td>    2.350</td> <td> 0.019</td> <td> 1.97e-08</td> <td> 2.18e-07</td>\n",
       "</tr>\n",
       "<tr>\n",
       "  <th>Age</th>                          <td>    0.0011</td> <td>    0.000</td> <td>    5.903</td> <td> 0.000</td> <td>    0.001</td> <td>    0.001</td>\n",
       "</tr>\n",
       "<tr>\n",
       "  <th>LOS</th>                          <td> -8.48e-06</td> <td> 1.58e-05</td> <td>   -0.537</td> <td> 0.591</td> <td>-3.94e-05</td> <td> 2.25e-05</td>\n",
       "</tr>\n",
       "<tr>\n",
       "  <th>previous_LOS</th>                 <td>    0.0001</td> <td> 3.76e-05</td> <td>    3.902</td> <td> 0.000</td> <td> 7.31e-05</td> <td>    0.000</td>\n",
       "</tr>\n",
       "<tr>\n",
       "  <th>previous_ICU_stays</th>           <td>    0.0193</td> <td>    0.006</td> <td>    3.021</td> <td> 0.003</td> <td>    0.007</td> <td>    0.032</td>\n",
       "</tr>\n",
       "<tr>\n",
       "  <th>Charlson_index</th>               <td>   -0.0056</td> <td>    0.010</td> <td>   -0.564</td> <td> 0.573</td> <td>   -0.025</td> <td>    0.014</td>\n",
       "</tr>\n",
       "<tr>\n",
       "  <th>weekend</th>                      <td>    0.0016</td> <td>    0.007</td> <td>    0.229</td> <td> 0.819</td> <td>   -0.012</td> <td>    0.015</td>\n",
       "</tr>\n",
       "<tr>\n",
       "  <th>disch_night</th>                  <td>   -0.0050</td> <td>    0.007</td> <td>   -0.711</td> <td> 0.477</td> <td>   -0.019</td> <td>    0.009</td>\n",
       "</tr>\n",
       "<tr>\n",
       "  <th>cvc_status</th>                   <td>   -0.0417</td> <td>    0.007</td> <td>   -5.767</td> <td> 0.000</td> <td>   -0.056</td> <td>   -0.027</td>\n",
       "</tr>\n",
       "<tr>\n",
       "  <th>SIRS_48_hour</th>                 <td>    0.0290</td> <td>    0.006</td> <td>    4.470</td> <td> 0.000</td> <td>    0.016</td> <td>    0.042</td>\n",
       "</tr>\n",
       "<tr>\n",
       "  <th>MV_24_hour</th>                   <td>   -0.1048</td> <td>    0.008</td> <td>  -13.377</td> <td> 0.000</td> <td>   -0.120</td> <td>   -0.089</td>\n",
       "</tr>\n",
       "<tr>\n",
       "  <th>Initial_SOFA_Liver</th>           <td>   -0.0165</td> <td>    0.010</td> <td>   -1.642</td> <td> 0.101</td> <td>   -0.036</td> <td>    0.003</td>\n",
       "</tr>\n",
       "<tr>\n",
       "  <th>Initial_SOFA_Coagulation</th>     <td>   -0.0005</td> <td>    0.007</td> <td>   -0.076</td> <td> 0.939</td> <td>   -0.014</td> <td>    0.013</td>\n",
       "</tr>\n",
       "<tr>\n",
       "  <th>Initial_SOFA_Nerv</th>            <td>   -0.0112</td> <td>    0.003</td> <td>   -3.312</td> <td> 0.001</td> <td>   -0.018</td> <td>   -0.005</td>\n",
       "</tr>\n",
       "<tr>\n",
       "  <th>Initial_SOFA_Renal</th>           <td>   -0.0004</td> <td>    0.007</td> <td>   -0.056</td> <td> 0.955</td> <td>   -0.014</td> <td>    0.014</td>\n",
       "</tr>\n",
       "<tr>\n",
       "  <th>Initial_SOFA_Respiratory</th>     <td>   -0.0017</td> <td>    0.006</td> <td>   -0.257</td> <td> 0.797</td> <td>   -0.014</td> <td>    0.011</td>\n",
       "</tr>\n",
       "<tr>\n",
       "  <th>Initial_SOFA_Cardio</th>          <td>    0.0077</td> <td>    0.005</td> <td>    1.509</td> <td> 0.131</td> <td>   -0.002</td> <td>    0.018</td>\n",
       "</tr>\n",
       "<tr>\n",
       "  <th>Discharge_SOFA_Liver</th>         <td>    0.0063</td> <td>    0.013</td> <td>    0.499</td> <td> 0.618</td> <td>   -0.019</td> <td>    0.031</td>\n",
       "</tr>\n",
       "<tr>\n",
       "  <th>Discharge_SOFA_Coagulation</th>   <td>   -0.0270</td> <td>    0.008</td> <td>   -3.248</td> <td> 0.001</td> <td>   -0.043</td> <td>   -0.011</td>\n",
       "</tr>\n",
       "<tr>\n",
       "  <th>Discharge_SOFA_Nerv</th>          <td>    0.0110</td> <td>    0.005</td> <td>    2.178</td> <td> 0.029</td> <td>    0.001</td> <td>    0.021</td>\n",
       "</tr>\n",
       "<tr>\n",
       "  <th>Discharge_SOFA_Renal</th>         <td>   -0.0031</td> <td>    0.009</td> <td>   -0.326</td> <td> 0.745</td> <td>   -0.021</td> <td>    0.015</td>\n",
       "</tr>\n",
       "<tr>\n",
       "  <th>Discharge_SOFA_Respiratory</th>   <td>   -0.0159</td> <td>    0.009</td> <td>   -1.731</td> <td> 0.083</td> <td>   -0.034</td> <td>    0.002</td>\n",
       "</tr>\n",
       "<tr>\n",
       "  <th>Discharge_SOFA_Cardio</th>        <td>   -0.0208</td> <td>    0.007</td> <td>   -3.144</td> <td> 0.002</td> <td>   -0.034</td> <td>   -0.008</td>\n",
       "</tr>\n",
       "<tr>\n",
       "  <th>Max_SOFA_Liver</th>               <td>    0.0515</td> <td>    0.016</td> <td>    3.213</td> <td> 0.001</td> <td>    0.020</td> <td>    0.083</td>\n",
       "</tr>\n",
       "<tr>\n",
       "  <th>Max_SOFA_Coagulation</th>         <td>   -0.0040</td> <td>    0.010</td> <td>   -0.395</td> <td> 0.692</td> <td>   -0.024</td> <td>    0.016</td>\n",
       "</tr>\n",
       "<tr>\n",
       "  <th>Max_SOFA_Nerv</th>                <td>   -0.0171</td> <td>    0.005</td> <td>   -3.143</td> <td> 0.002</td> <td>   -0.028</td> <td>   -0.006</td>\n",
       "</tr>\n",
       "<tr>\n",
       "  <th>Max_SOFA_Renal</th>               <td>    0.0430</td> <td>    0.011</td> <td>    3.740</td> <td> 0.000</td> <td>    0.020</td> <td>    0.066</td>\n",
       "</tr>\n",
       "<tr>\n",
       "  <th>Max_SOFA_Respiratory</th>         <td>   -0.0084</td> <td>    0.008</td> <td>   -1.049</td> <td> 0.294</td> <td>   -0.024</td> <td>    0.007</td>\n",
       "</tr>\n",
       "<tr>\n",
       "  <th>Max_SOFA_Cardio</th>              <td>    0.0034</td> <td>    0.007</td> <td>    0.519</td> <td> 0.604</td> <td>   -0.010</td> <td>    0.016</td>\n",
       "</tr>\n",
       "<tr>\n",
       "  <th>Aver_SOFA_Liver</th>              <td>   -0.0043</td> <td>    0.020</td> <td>   -0.217</td> <td> 0.828</td> <td>   -0.043</td> <td>    0.034</td>\n",
       "</tr>\n",
       "<tr>\n",
       "  <th>Aver_SOFA_Coagulation</th>        <td>    0.0370</td> <td>    0.015</td> <td>    2.489</td> <td> 0.013</td> <td>    0.008</td> <td>    0.066</td>\n",
       "</tr>\n",
       "<tr>\n",
       "  <th>Aver_SOFA_Nerv</th>               <td>   -0.0092</td> <td>    0.007</td> <td>   -1.333</td> <td> 0.183</td> <td>   -0.023</td> <td>    0.004</td>\n",
       "</tr>\n",
       "<tr>\n",
       "  <th>Aver_SOFA_Renal</th>              <td>   -0.0204</td> <td>    0.015</td> <td>   -1.403</td> <td> 0.161</td> <td>   -0.049</td> <td>    0.008</td>\n",
       "</tr>\n",
       "<tr>\n",
       "  <th>Aver_SOFA_Respiratory</th>        <td>    0.0218</td> <td>    0.014</td> <td>    1.597</td> <td> 0.110</td> <td>   -0.005</td> <td>    0.048</td>\n",
       "</tr>\n",
       "<tr>\n",
       "  <th>Aver_SOFA_Cardio</th>             <td>    0.0012</td> <td>    0.010</td> <td>    0.116</td> <td> 0.908</td> <td>   -0.019</td> <td>    0.021</td>\n",
       "</tr>\n",
       "<tr>\n",
       "  <th>Var_SOFA_Liver</th>               <td>   -0.0673</td> <td>    0.029</td> <td>   -2.310</td> <td> 0.021</td> <td>   -0.124</td> <td>   -0.010</td>\n",
       "</tr>\n",
       "<tr>\n",
       "  <th>Var_SOFA_Coagulation</th>         <td>   -0.0224</td> <td>    0.020</td> <td>   -1.123</td> <td> 0.261</td> <td>   -0.061</td> <td>    0.017</td>\n",
       "</tr>\n",
       "<tr>\n",
       "  <th>var_SOFA_Nerv</th>                <td>   -0.0013</td> <td>    0.006</td> <td>   -0.218</td> <td> 0.827</td> <td>   -0.013</td> <td>    0.010</td>\n",
       "</tr>\n",
       "<tr>\n",
       "  <th>Var_SOFA_Renal</th>               <td>   -0.0656</td> <td>    0.022</td> <td>   -2.972</td> <td> 0.003</td> <td>   -0.109</td> <td>   -0.022</td>\n",
       "</tr>\n",
       "<tr>\n",
       "  <th>Var_SOFA_Respiratory</th>         <td>   -0.0177</td> <td>    0.019</td> <td>   -0.939</td> <td> 0.348</td> <td>   -0.055</td> <td>    0.019</td>\n",
       "</tr>\n",
       "<tr>\n",
       "  <th>Var_SOFA_Cardio</th>              <td>   -0.0126</td> <td>    0.010</td> <td>   -1.283</td> <td> 0.200</td> <td>   -0.032</td> <td>    0.007</td>\n",
       "</tr>\n",
       "<tr>\n",
       "  <th>AdmitApache</th>                  <td>   -0.0002</td> <td>    0.000</td> <td>   -0.571</td> <td> 0.568</td> <td>   -0.001</td> <td>    0.001</td>\n",
       "</tr>\n",
       "<tr>\n",
       "  <th>DischargeApache</th>              <td>   -0.0011</td> <td>    0.000</td> <td>   -2.809</td> <td> 0.005</td> <td>   -0.002</td> <td>   -0.000</td>\n",
       "</tr>\n",
       "<tr>\n",
       "  <th>MeanApache</th>                   <td>    0.0028</td> <td>    0.001</td> <td>    4.058</td> <td> 0.000</td> <td>    0.001</td> <td>    0.004</td>\n",
       "</tr>\n",
       "<tr>\n",
       "  <th>MaxApache</th>                    <td>   -0.0014</td> <td>    0.001</td> <td>   -2.791</td> <td> 0.005</td> <td>   -0.002</td> <td>   -0.000</td>\n",
       "</tr>\n",
       "<tr>\n",
       "  <th>ICU Type_Cardiac</th>             <td>   -0.0067</td> <td>    0.010</td> <td>   -0.689</td> <td> 0.491</td> <td>   -0.026</td> <td>    0.012</td>\n",
       "</tr>\n",
       "<tr>\n",
       "  <th>ICU Type_Cardiac-T</th>           <td>    0.0332</td> <td>    0.011</td> <td>    3.034</td> <td> 0.002</td> <td>    0.012</td> <td>    0.055</td>\n",
       "</tr>\n",
       "<tr>\n",
       "  <th>ICU Type_Medical</th>             <td>    0.0664</td> <td>    0.009</td> <td>    7.049</td> <td> 0.000</td> <td>    0.048</td> <td>    0.085</td>\n",
       "</tr>\n",
       "<tr>\n",
       "  <th>ICU Type_Neuro</th>               <td>   -0.0246</td> <td>    0.008</td> <td>   -3.060</td> <td> 0.002</td> <td>   -0.040</td> <td>   -0.009</td>\n",
       "</tr>\n",
       "<tr>\n",
       "  <th>ICU Type_Surgical</th>            <td>   -0.0357</td> <td>    0.009</td> <td>   -4.141</td> <td> 0.000</td> <td>   -0.053</td> <td>   -0.019</td>\n",
       "</tr>\n",
       "<tr>\n",
       "  <th>ICU Type_Transplant</th>          <td>   -0.0325</td> <td>    0.009</td> <td>   -3.541</td> <td> 0.000</td> <td>   -0.050</td> <td>   -0.014</td>\n",
       "</tr>\n",
       "<tr>\n",
       "  <th>ICU Type_Trauma</th>              <td>    0.1149</td> <td>    0.016</td> <td>    7.057</td> <td> 0.000</td> <td>    0.083</td> <td>    0.147</td>\n",
       "</tr>\n",
       "<tr>\n",
       "  <th>Origin Level of Care_HOME</th>    <td>    0.0318</td> <td>    0.009</td> <td>    3.541</td> <td> 0.000</td> <td>    0.014</td> <td>    0.049</td>\n",
       "</tr>\n",
       "<tr>\n",
       "  <th>Origin Level of Care_Regular</th> <td>    0.0432</td> <td>    0.010</td> <td>    4.172</td> <td> 0.000</td> <td>    0.023</td> <td>    0.063</td>\n",
       "</tr>\n",
       "<tr>\n",
       "  <th>Origin Level of Care_SDU</th>     <td>    0.0401</td> <td>    0.010</td> <td>    4.158</td> <td> 0.000</td> <td>    0.021</td> <td>    0.059</td>\n",
       "</tr>\n",
       "<tr>\n",
       "  <th>Sex_F</th>                        <td>    0.0627</td> <td>    0.013</td> <td>    4.995</td> <td> 0.000</td> <td>    0.038</td> <td>    0.087</td>\n",
       "</tr>\n",
       "<tr>\n",
       "  <th>Sex_M</th>                        <td>    0.0523</td> <td>    0.012</td> <td>    4.219</td> <td> 0.000</td> <td>    0.028</td> <td>    0.077</td>\n",
       "</tr>\n",
       "<tr>\n",
       "  <th>Type_MED</th>                     <td>    0.0248</td> <td>    0.013</td> <td>    1.951</td> <td> 0.051</td> <td>   -0.000</td> <td>    0.050</td>\n",
       "</tr>\n",
       "<tr>\n",
       "  <th>Type_SURG</th>                    <td>    0.0902</td> <td>    0.012</td> <td>    7.296</td> <td> 0.000</td> <td>    0.066</td> <td>    0.114</td>\n",
       "</tr>\n",
       "</table>\n",
       "<table class=\"simpletable\">\n",
       "<tr>\n",
       "  <th>Omnibus:</th>       <td>3502.215</td> <th>  Durbin-Watson:     </th> <td>   1.995</td>\n",
       "</tr>\n",
       "<tr>\n",
       "  <th>Prob(Omnibus):</th>  <td> 0.000</td>  <th>  Jarque-Bera (JB):  </th> <td>7195.152</td>\n",
       "</tr>\n",
       "<tr>\n",
       "  <th>Skew:</th>           <td> 1.683</td>  <th>  Prob(JB):          </th> <td>    0.00</td>\n",
       "</tr>\n",
       "<tr>\n",
       "  <th>Kurtosis:</th>       <td> 4.453</td>  <th>  Cond. No.          </th> <td>1.00e+16</td>\n",
       "</tr>\n",
       "</table><br/><br/>Warnings:<br/>[1] Standard Errors assume that the covariance matrix of the errors is correctly specified.<br/>[2] The smallest eigenvalue is 1.47e-17. This might indicate that there are<br/>strong multicollinearity problems or that the design matrix is singular."
      ],
      "text/plain": [
       "<class 'statsmodels.iolib.summary.Summary'>\n",
       "\"\"\"\n",
       "                            OLS Regression Results                            \n",
       "==============================================================================\n",
       "Dep. Variable:             Readmitted   R-squared:                       0.089\n",
       "Model:                            OLS   Adj. R-squared:                  0.085\n",
       "Method:                 Least Squares   F-statistic:                     22.67\n",
       "Date:                Wed, 15 Jan 2020   Prob (F-statistic):          2.39e-213\n",
       "Time:                        20:15:19   Log-Likelihood:                -4493.7\n",
       "No. Observations:               12847   AIC:                             9099.\n",
       "Df Residuals:                   12791   BIC:                             9517.\n",
       "Df Model:                          55                                         \n",
       "Covariance Type:            nonrobust                                         \n",
       "================================================================================================\n",
       "                                   coef    std err          t      P>|t|      [0.025      0.975]\n",
       "------------------------------------------------------------------------------------------------\n",
       "Patientid                      1.19e-07   5.06e-08      2.350      0.019    1.97e-08    2.18e-07\n",
       "Age                              0.0011      0.000      5.903      0.000       0.001       0.001\n",
       "LOS                           -8.48e-06   1.58e-05     -0.537      0.591   -3.94e-05    2.25e-05\n",
       "previous_LOS                     0.0001   3.76e-05      3.902      0.000    7.31e-05       0.000\n",
       "previous_ICU_stays               0.0193      0.006      3.021      0.003       0.007       0.032\n",
       "Charlson_index                  -0.0056      0.010     -0.564      0.573      -0.025       0.014\n",
       "weekend                          0.0016      0.007      0.229      0.819      -0.012       0.015\n",
       "disch_night                     -0.0050      0.007     -0.711      0.477      -0.019       0.009\n",
       "cvc_status                      -0.0417      0.007     -5.767      0.000      -0.056      -0.027\n",
       "SIRS_48_hour                     0.0290      0.006      4.470      0.000       0.016       0.042\n",
       "MV_24_hour                      -0.1048      0.008    -13.377      0.000      -0.120      -0.089\n",
       "Initial_SOFA_Liver              -0.0165      0.010     -1.642      0.101      -0.036       0.003\n",
       "Initial_SOFA_Coagulation        -0.0005      0.007     -0.076      0.939      -0.014       0.013\n",
       "Initial_SOFA_Nerv               -0.0112      0.003     -3.312      0.001      -0.018      -0.005\n",
       "Initial_SOFA_Renal              -0.0004      0.007     -0.056      0.955      -0.014       0.014\n",
       "Initial_SOFA_Respiratory        -0.0017      0.006     -0.257      0.797      -0.014       0.011\n",
       "Initial_SOFA_Cardio              0.0077      0.005      1.509      0.131      -0.002       0.018\n",
       "Discharge_SOFA_Liver             0.0063      0.013      0.499      0.618      -0.019       0.031\n",
       "Discharge_SOFA_Coagulation      -0.0270      0.008     -3.248      0.001      -0.043      -0.011\n",
       "Discharge_SOFA_Nerv              0.0110      0.005      2.178      0.029       0.001       0.021\n",
       "Discharge_SOFA_Renal            -0.0031      0.009     -0.326      0.745      -0.021       0.015\n",
       "Discharge_SOFA_Respiratory      -0.0159      0.009     -1.731      0.083      -0.034       0.002\n",
       "Discharge_SOFA_Cardio           -0.0208      0.007     -3.144      0.002      -0.034      -0.008\n",
       "Max_SOFA_Liver                   0.0515      0.016      3.213      0.001       0.020       0.083\n",
       "Max_SOFA_Coagulation            -0.0040      0.010     -0.395      0.692      -0.024       0.016\n",
       "Max_SOFA_Nerv                   -0.0171      0.005     -3.143      0.002      -0.028      -0.006\n",
       "Max_SOFA_Renal                   0.0430      0.011      3.740      0.000       0.020       0.066\n",
       "Max_SOFA_Respiratory            -0.0084      0.008     -1.049      0.294      -0.024       0.007\n",
       "Max_SOFA_Cardio                  0.0034      0.007      0.519      0.604      -0.010       0.016\n",
       "Aver_SOFA_Liver                 -0.0043      0.020     -0.217      0.828      -0.043       0.034\n",
       "Aver_SOFA_Coagulation            0.0370      0.015      2.489      0.013       0.008       0.066\n",
       "Aver_SOFA_Nerv                  -0.0092      0.007     -1.333      0.183      -0.023       0.004\n",
       "Aver_SOFA_Renal                 -0.0204      0.015     -1.403      0.161      -0.049       0.008\n",
       "Aver_SOFA_Respiratory            0.0218      0.014      1.597      0.110      -0.005       0.048\n",
       "Aver_SOFA_Cardio                 0.0012      0.010      0.116      0.908      -0.019       0.021\n",
       "Var_SOFA_Liver                  -0.0673      0.029     -2.310      0.021      -0.124      -0.010\n",
       "Var_SOFA_Coagulation            -0.0224      0.020     -1.123      0.261      -0.061       0.017\n",
       "var_SOFA_Nerv                   -0.0013      0.006     -0.218      0.827      -0.013       0.010\n",
       "Var_SOFA_Renal                  -0.0656      0.022     -2.972      0.003      -0.109      -0.022\n",
       "Var_SOFA_Respiratory            -0.0177      0.019     -0.939      0.348      -0.055       0.019\n",
       "Var_SOFA_Cardio                 -0.0126      0.010     -1.283      0.200      -0.032       0.007\n",
       "AdmitApache                     -0.0002      0.000     -0.571      0.568      -0.001       0.001\n",
       "DischargeApache                 -0.0011      0.000     -2.809      0.005      -0.002      -0.000\n",
       "MeanApache                       0.0028      0.001      4.058      0.000       0.001       0.004\n",
       "MaxApache                       -0.0014      0.001     -2.791      0.005      -0.002      -0.000\n",
       "ICU Type_Cardiac                -0.0067      0.010     -0.689      0.491      -0.026       0.012\n",
       "ICU Type_Cardiac-T               0.0332      0.011      3.034      0.002       0.012       0.055\n",
       "ICU Type_Medical                 0.0664      0.009      7.049      0.000       0.048       0.085\n",
       "ICU Type_Neuro                  -0.0246      0.008     -3.060      0.002      -0.040      -0.009\n",
       "ICU Type_Surgical               -0.0357      0.009     -4.141      0.000      -0.053      -0.019\n",
       "ICU Type_Transplant             -0.0325      0.009     -3.541      0.000      -0.050      -0.014\n",
       "ICU Type_Trauma                  0.1149      0.016      7.057      0.000       0.083       0.147\n",
       "Origin Level of Care_HOME        0.0318      0.009      3.541      0.000       0.014       0.049\n",
       "Origin Level of Care_Regular     0.0432      0.010      4.172      0.000       0.023       0.063\n",
       "Origin Level of Care_SDU         0.0401      0.010      4.158      0.000       0.021       0.059\n",
       "Sex_F                            0.0627      0.013      4.995      0.000       0.038       0.087\n",
       "Sex_M                            0.0523      0.012      4.219      0.000       0.028       0.077\n",
       "Type_MED                         0.0248      0.013      1.951      0.051      -0.000       0.050\n",
       "Type_SURG                        0.0902      0.012      7.296      0.000       0.066       0.114\n",
       "==============================================================================\n",
       "Omnibus:                     3502.215   Durbin-Watson:                   1.995\n",
       "Prob(Omnibus):                  0.000   Jarque-Bera (JB):             7195.152\n",
       "Skew:                           1.683   Prob(JB):                         0.00\n",
       "Kurtosis:                       4.453   Cond. No.                     1.00e+16\n",
       "==============================================================================\n",
       "\n",
       "Warnings:\n",
       "[1] Standard Errors assume that the covariance matrix of the errors is correctly specified.\n",
       "[2] The smallest eigenvalue is 1.47e-17. This might indicate that there are\n",
       "strong multicollinearity problems or that the design matrix is singular.\n",
       "\"\"\""
      ]
     },
     "execution_count": 127,
     "metadata": {},
     "output_type": "execute_result"
    }
   ],
   "source": [
    "sm.OLS(train_yr, train).fit().summary()"
   ]
  },
  {
   "cell_type": "markdown",
   "metadata": {},
   "source": [
    "### 1. Logistic Regression"
   ]
  },
  {
   "cell_type": "markdown",
   "metadata": {},
   "source": [
    "### Death"
   ]
  },
  {
   "cell_type": "code",
   "execution_count": 24,
   "metadata": {},
   "outputs": [
    {
     "name": "stdout",
     "output_type": "stream",
     "text": [
      "Trainnng accuracy:  0.8471242425022683\n",
      "Training accuracy for balanced samples:  0.7265990829264475\n"
     ]
    }
   ],
   "source": [
    "from sklearn.model_selection import cross_val_score\n",
    "from sklearn.model_selection import cross_val_predict\n",
    "from sklearn.metrics import precision_score, recall_score, f1_score,accuracy_score,confusion_matrix, roc_curve\n",
    "\n",
    "lr_d = LogisticRegression()\n",
    "train_acc_score = cross_val_score(lr_d, train,train_yd, scoring=\"accuracy\", cv=5)\n",
    "average_acc = train_acc_score.mean()\n",
    "print(\"Trainnng accuracy: \", average_acc)\n",
    "\n",
    "b_lr_d = LogisticRegression()\n",
    "b_train_acc_score = cross_val_score(b_lr_d, b_train_d, b_train_yd, scoring=\"accuracy\", cv=5)\n",
    "print(\"Training accuracy for balanced samples: \", b_train_acc_score.mean())"
   ]
  },
  {
   "cell_type": "code",
   "execution_count": 30,
   "metadata": {},
   "outputs": [
    {
     "name": "stdout",
     "output_type": "stream",
     "text": [
      "Test accuracy:  0.8446450809464509  - F1 score:  0.49133537206931704\n",
      "Test accuracy for balanced samples:  0.6500771604938271  - F1 score:  0.4975069252077563\n"
     ]
    }
   ],
   "source": [
    "from sklearn.metrics import accuracy_score, f1_score\n",
    "\n",
    "lr_d.fit(train, train_yd)\n",
    "lr_d_preds = lr_d.predict(test)\n",
    "b_test_accuracy = accuracy_score(test_yd, lr_d_preds)\n",
    "print(\"Test accuracy: \", b_test_accuracy, \" - F1 score: \", f1_score(test_yd, lr_d_preds))\n",
    "\n",
    "b_lr_d.fit(train, train_yd)\n",
    "b_lr_d_preds = b_lr_d.predict(b_test_d)\n",
    "b_test_accuracy = accuracy_score(b_test_yd, b_lr_d_preds)\n",
    "print(\"Test accuracy for balanced samples: \", b_test_accuracy, \" - F1 score: \", f1_score(b_test_yd, b_lr_d_preds))"
   ]
  },
  {
   "cell_type": "code",
   "execution_count": 42,
   "metadata": {},
   "outputs": [
    {
     "data": {
      "image/png": "[encoded data removed]",
      "text/plain": [
       "<Figure size 432x288 with 1 Axes>"
      ]
     },
     "metadata": {
      "needs_background": "light"
     },
     "output_type": "display_data"
    }
   ],
   "source": [
    "from sklearn.metrics import roc_curve\n",
    "\n",
    "fpr1, tpr1, thresholds1 = roc_curve(b_test_yd, b_lr_d_preds)\n",
    "fpr2, tpr2, thresholds2 = roc_curve(test_yd, lr_d_preds)\n",
    "plt.plot(fpr2, tpr2, \"b:\", linewidth=2, label=\"Normal\")\n",
    "plot_roc_curve(fpr, tpr, 'Balanced')\n",
    "plt.legend(loc=\"lower right\", fontsize=16)\n",
    "plt.show()"
   ]
  },
  {
   "cell_type": "markdown",
   "metadata": {},
   "source": [
    "### Readmitted"
   ]
  },
  {
   "cell_type": "code",
   "execution_count": 129,
   "metadata": {},
   "outputs": [
    {
     "name": "stdout",
     "output_type": "stream",
     "text": [
      "Trainnng error:  0.8471238184095615\n"
     ]
    }
   ],
   "source": [
    "lr_r = LogisticRegression()\n",
    "train_acc_score = cross_val_score(lr_r, train,train_yr,scoring=\"accuracy\", cv=5)\n",
    "average_acc = train_acc_score.mean()\n",
    "print(\"Trainnng error: \", average_acc)"
   ]
  },
  {
   "cell_type": "code",
   "execution_count": 130,
   "metadata": {},
   "outputs": [
    {
     "name": "stdout",
     "output_type": "stream",
     "text": [
      "Test error:  0.8396637608966376\n"
     ]
    }
   ],
   "source": [
    "lr_r.fit(train, train_yr)\n",
    "lr_r_preds = lr_r.predict(test)\n",
    "test_acc_score = accuracy_score(test_yr, lr_r_preds)\n",
    "print(\"Test error: \", test_acc_score)"
   ]
  },
  {
   "cell_type": "markdown",
   "metadata": {},
   "source": [
    "### 2. KNN"
   ]
  },
  {
   "cell_type": "markdown",
   "metadata": {},
   "source": [
    "### Death"
   ]
  },
  {
   "cell_type": "code",
   "execution_count": 155,
   "metadata": {},
   "outputs": [
    {
     "name": "stdout",
     "output_type": "stream",
     "text": [
      "Fitting 5 folds for each of 8 candidates, totalling 40 fits\n"
     ]
    },
    {
     "name": "stderr",
     "output_type": "stream",
     "text": [
      "[Parallel(n_jobs=-1)]: Using backend LokyBackend with 4 concurrent workers.\n",
      "[Parallel(n_jobs=-1)]: Done  24 tasks      | elapsed:   14.3s\n",
      "[Parallel(n_jobs=-1)]: Done  40 out of  40 | elapsed:   17.3s finished\n"
     ]
    },
    {
     "name": "stdout",
     "output_type": "stream",
     "text": [
      "Best training Accuracy:  0.8102280861453457\n",
      "Best parameters:  {'n_neighbors': 23, 'weights': 'uniform'}\n"
     ]
    }
   ],
   "source": [
    "from sklearn.neighbors import KNeighborsClassifier\n",
    "from sklearn.model_selection import GridSearchCV\n",
    "\n",
    "grid_params = [{'weights': [\"uniform\", \"distance\"], 'n_neighbors': [19, 21, 23, 25]}]\n",
    "knn_grid = GridSearchCV(KNeighborsClassifier(), grid_params, cv=5, verbose=3, n_jobs=-1)\n",
    "knn_grid.fit(train, train_yd)\n",
    "print(\"Best training Accuracy: \", knn_grid.best_score_)\n",
    "print(\"Best parameters: \", knn_grid.best_params_)"
   ]
  },
  {
   "cell_type": "code",
   "execution_count": 46,
   "metadata": {},
   "outputs": [
    {
     "name": "stdout",
     "output_type": "stream",
     "text": [
      "Test accuracy:  0.798879202988792 - F1 score:  0.0\n",
      "Test accuracy for balanced samples:  0.5223765432098766 - F1 score:  0.505591054313099\n"
     ]
    }
   ],
   "source": [
    "best_knn_d = KNeighborsClassifier(n_neighbors=23, weights='uniform')\n",
    "best_knn_d.fit(train, train_yd)\n",
    "preds = best_knn_d.predict(test)\n",
    "print(\"Test accuracy: \", accuracy_score(test_yd, preds), '- F1 score: ', f1_score(test_yd, preds))\n",
    "\n",
    "b_best_knn_d = KNeighborsClassifier(n_neighbors=23, weights='uniform')\n",
    "b_best_knn_d.fit(b_train_d, b_train_yd)\n",
    "b_preds = b_best_knn_d.predict(b_test_d)\n",
    "print(\"Test accuracy for balanced samples: \", accuracy_score(b_test_yd, b_preds), '- F1 score: ', f1_score(b_test_yd, b_preds))"
   ]
  },
  {
   "cell_type": "code",
   "execution_count": 55,
   "metadata": {},
   "outputs": [
    {
     "data": {
      "image/png": "[encoded data removed]",
      "text/plain": [
       "<Figure size 432x288 with 1 Axes>"
      ]
     },
     "metadata": {
      "needs_background": "light"
     },
     "output_type": "display_data"
    }
   ],
   "source": [
    "fpr1, tpr1, thresholds1 = roc_curve(b_test_yd, b_preds)\n",
    "fpr2, tpr2, thresholds2 = roc_curve(test_yd, preds)\n",
    "plt.plot(fpr2, tpr2, \"b:\", linewidth=2, label=\"Normal\")\n",
    "plot_roc_curve(fpr1, tpr1, 'Balanced')\n",
    "plt.legend(loc=\"lower right\", fontsize=16)\n",
    "plt.show()"
   ]
  },
  {
   "cell_type": "markdown",
   "metadata": {},
   "source": [
    "### Readmitted"
   ]
  },
  {
   "cell_type": "code",
   "execution_count": 131,
   "metadata": {},
   "outputs": [
    {
     "name": "stdout",
     "output_type": "stream",
     "text": [
      "Fitting 5 folds for each of 6 candidates, totalling 30 fits\n"
     ]
    },
    {
     "name": "stderr",
     "output_type": "stream",
     "text": [
      "[Parallel(n_jobs=-1)]: Using backend LokyBackend with 4 concurrent workers.\n",
      "[Parallel(n_jobs=-1)]: Done  30 out of  30 | elapsed:   21.6s finished\n"
     ]
    },
    {
     "name": "stdout",
     "output_type": "stream",
     "text": [
      "Best training Accuracy:  0.84727952101758\n",
      "Best parameters:  {'n_neighbors': 19, 'weights': 'uniform'}\n"
     ]
    }
   ],
   "source": [
    "grid_params = [{'weights': [\"uniform\", \"distance\"], 'n_neighbors': [15, 17, 19]}]\n",
    "knn_grid = GridSearchCV(KNeighborsClassifier(), grid_params, cv=5, verbose=3, n_jobs=-1)\n",
    "knn_grid.fit(train, train_yr)\n",
    "print(\"Best training Accuracy: \", knn_grid.best_score_)\n",
    "print(\"Best parameters: \", knn_grid.best_params_)"
   ]
  },
  {
   "cell_type": "code",
   "execution_count": 135,
   "metadata": {},
   "outputs": [
    {
     "name": "stdout",
     "output_type": "stream",
     "text": [
      "Test accuracy:  0.839975093399751 - F1 score:  0.0\n"
     ]
    }
   ],
   "source": [
    "best_knn_d = KNeighborsClassifier(n_neighbors=19, weights='uniform')\n",
    "best_knn_d.fit(train, train_yr)\n",
    "print(\"Test accuracy: \", accuracy_score(test_yr, best_knn_d.predict(test)), '- F1 score: ', f1_score(test_yr, best_knn_d.predict(test)))"
   ]
  },
  {
   "cell_type": "markdown",
   "metadata": {},
   "source": [
    "### 3. Decision Tree"
   ]
  },
  {
   "cell_type": "markdown",
   "metadata": {},
   "source": [
    "### Death"
   ]
  },
  {
   "cell_type": "code",
   "execution_count": 154,
   "metadata": {},
   "outputs": [
    {
     "name": "stdout",
     "output_type": "stream",
     "text": [
      "Best training Accuracy:  0.9048026984413079\n",
      "Best parameters:  {'max_depth': 4, 'min_samples_split': 2}\n"
     ]
    }
   ],
   "source": [
    "from sklearn.tree import DecisionTreeClassifier\n",
    "\n",
    "grid_params = {\"max_depth\":[2,4,10], \"min_samples_split\":[2,3,4]}\n",
    "dt_grid = GridSearchCV(DecisionTreeClassifier(), grid_params, cv=5)\n",
    "dt_grid.fit(train, train_yd)\n",
    "print(\"Best training Accuracy: \", dt_grid.best_score_)\n",
    "print(\"Best parameters: \", dt_grid.best_params_)"
   ]
  },
  {
   "cell_type": "code",
   "execution_count": 52,
   "metadata": {},
   "outputs": [
    {
     "name": "stdout",
     "output_type": "stream",
     "text": [
      "Test error:  0.8960149439601495 - F1 score:  0.7044247787610619\n",
      "Test error:  0.8547453703703703 - F1 score:  0.8538715311469047\n"
     ]
    }
   ],
   "source": [
    "best_dt_d = DecisionTreeClassifier(max_depth=4, min_samples_split=3, random_state=0)\n",
    "best_dt_d.fit(train, train_yd)\n",
    "best_dt_d_preds = best_dt_d.predict(test)\n",
    "print(\"Test accuracy: \", accuracy_score(test_yd, best_dt_d_preds), '- F1 score: ', f1_score(test_yd, best_dt_d_preds))\n",
    "\n",
    "b_best_dt_d = DecisionTreeClassifier(max_depth=4, min_samples_split=3, random_state=0)\n",
    "b_best_dt_d.fit(b_train_d, b_train_yd)\n",
    "b_best_dt_d_preds = b_best_dt_d.predict(b_test_d)\n",
    "print(\"Test accuracy: \", accuracy_score(b_test_yd, b_best_dt_d_preds), '- F1 score: ', f1_score(b_test_yd, b_best_dt_d_preds))\n"
   ]
  },
  {
   "cell_type": "code",
   "execution_count": 54,
   "metadata": {},
   "outputs": [
    {
     "data": {
      "image/png": "[encoded data removed]",
      "text/plain": [
       "<Figure size 432x288 with 1 Axes>"
      ]
     },
     "metadata": {
      "needs_background": "light"
     },
     "output_type": "display_data"
    }
   ],
   "source": [
    "fpr1, tpr1, thresholds1 = roc_curve(b_test_yd, b_best_dt_d_preds)\n",
    "fpr2, tpr2, thresholds2 = roc_curve(test_yd, best_dt_d_preds)\n",
    "plt.plot(fpr2, tpr2, \"b:\", linewidth=2, label=\"Normal\")\n",
    "plot_roc_curve(fpr1, tpr1, 'Balanced')\n",
    "plt.legend(loc=\"lower right\", fontsize=16)\n",
    "plt.show()"
   ]
  },
  {
   "cell_type": "markdown",
   "metadata": {},
   "source": [
    "### Readmitted"
   ]
  },
  {
   "cell_type": "code",
   "execution_count": 136,
   "metadata": {},
   "outputs": [
    {
     "name": "stdout",
     "output_type": "stream",
     "text": [
      "Best training Accuracy:  0.8493813850564876\n",
      "Best parameters:  {'max_depth': 4, 'min_samples_split': 4}\n"
     ]
    }
   ],
   "source": [
    "grid_params = {\"max_depth\":[2,4,10, 20], \"min_samples_split\":[2,3,4,5]}\n",
    "dt_grid = GridSearchCV(DecisionTreeClassifier(), grid_params, cv=5)\n",
    "dt_grid.fit(train, train_yr)\n",
    "print(\"Best training Accuracy: \", dt_grid.best_score_)\n",
    "print(\"Best parameters: \", dt_grid.best_params_)"
   ]
  },
  {
   "cell_type": "code",
   "execution_count": 141,
   "metadata": {},
   "outputs": [
    {
     "name": "stdout",
     "output_type": "stream",
     "text": [
      "Test Accuracy:  0.8405977584059776 F1 score:  0.13220338983050847\n"
     ]
    }
   ],
   "source": [
    "best_dt_r = DecisionTreeClassifier(max_depth=4, min_samples_split=4, random_state=0)\n",
    "best_dt_r.fit(train, train_yr)\n",
    "best_dt_r_preds = best_dt_r.predict(test)\n",
    "print(\"Test Accuracy: \", accuracy_score(test_yr, best_dt_r_preds), 'F1 score: ', f1_score(test_yr, best_dt_r_preds))"
   ]
  },
  {
   "cell_type": "markdown",
   "metadata": {},
   "source": [
    "### 4. Bagging"
   ]
  },
  {
   "cell_type": "markdown",
   "metadata": {},
   "source": [
    "### Death"
   ]
  },
  {
   "cell_type": "code",
   "execution_count": 57,
   "metadata": {},
   "outputs": [
    {
     "name": "stdout",
     "output_type": "stream",
     "text": [
      "Best training MSE:  0.9152328647613797\n",
      "Best parameters:  {'base_estimator': DecisionTreeClassifier(ccp_alpha=0.0, class_weight=None, criterion='gini',\n",
      "                       max_depth=None, max_features=None, max_leaf_nodes=None,\n",
      "                       min_impurity_decrease=0.0, min_impurity_split=None,\n",
      "                       min_samples_leaf=1, min_samples_split=2,\n",
      "                       min_weight_fraction_leaf=0.0, presort='deprecated',\n",
      "                       random_state=0, splitter='best'), 'bootstrap_features': True, 'n_estimators': 30}\n"
     ]
    }
   ],
   "source": [
    "from sklearn.ensemble import BaggingClassifier\n",
    "\n",
    "grid_params = [\n",
    "    {'base_estimator': [LogisticRegression(), DecisionTreeClassifier(random_state=0)], \n",
    "     'n_estimators': [10, 20, 30],\n",
    "     'bootstrap_features': [True]}\n",
    "]\n",
    "bag_grid_d = GridSearchCV(BaggingClassifier(random_state=0), grid_params, cv=5)\n",
    "bag_grid_d.fit(train, train_yd)\n",
    "print(\"Best training accuracy: \", bag_grid_d.best_score_)\n",
    "print(\"Best parameters: \", bag_grid_d.best_params_)"
   ]
  },
  {
   "cell_type": "code",
   "execution_count": 95,
   "metadata": {},
   "outputs": [
    {
     "name": "stdout",
     "output_type": "stream",
     "text": [
      "Test error:  0.8567870485678705 F1 score:  0.6439628482972136\n",
      "Test error for balanced samples:  0.923804012345679 F1 score:  0.9222593977563472\n"
     ]
    }
   ],
   "source": [
    "best_bagging_d = BaggingClassifier(base_estimator=DecisionTreeClassifier(ccp_alpha=0.0, class_weight=None, criterion='gini',\n",
    "                       max_depth=None, max_features=None, max_leaf_nodes=None,\n",
    "                       min_impurity_decrease=0.0, min_impurity_split=None,\n",
    "                       min_samples_leaf=1, min_samples_split=2,\n",
    "                       min_weight_fraction_leaf=0.0, presort='deprecated',\n",
    "                       random_state=0, splitter='best'), bootstrap_features=True, n_estimators=30)\n",
    "best_bagging_d.fit(train, train_yd)\n",
    "best_bagging_d = best_bagging_d.predict(test)\n",
    "print(\"Test error: \", accuracy_score(test_yd, best_bagging_d_preds), 'F1 score: ', f1_score(test_yd, best_bagging_d_preds))\n",
    "\n",
    "b_best_bagging_d = BaggingClassifier(base_estimator=DecisionTreeClassifier(ccp_alpha=0.0, class_weight=None, criterion='gini',\n",
    "                       max_depth=None, max_features=None, max_leaf_nodes=None,\n",
    "                       min_impurity_decrease=0.0, min_impurity_split=None,\n",
    "                       min_samples_leaf=1, min_samples_split=2,\n",
    "                       min_weight_fraction_leaf=0.0, presort='deprecated',\n",
    "                       random_state=0, splitter='best'), bootstrap_features=True, n_estimators=30)\n",
    "b_best_bagging_d.fit(b_train_d, b_train_yd)\n",
    "b_best_bagging_d_preds = b_best_bagging_d.predict(b_test_d)\n",
    "print(\"Test error for balanced samples: \", accuracy_score(b_test_yd, b_best_bagging_d_preds), 'F1 score: ', f1_score(b_test_yd, b_best_bagging_d_preds))"
   ]
  },
  {
   "cell_type": "code",
   "execution_count": 96,
   "metadata": {},
   "outputs": [
    {
     "data": {
      "image/png": "[encoded data removed]",
      "text/plain": [
       "<Figure size 432x288 with 1 Axes>"
      ]
     },
     "metadata": {
      "needs_background": "light"
     },
     "output_type": "display_data"
    }
   ],
   "source": [
    "fpr1, tpr1, thresholds1 = roc_curve(b_test_yd, b_best_bagging_d_preds)\n",
    "fpr2, tpr2, thresholds2 = roc_curve(test_yd, best_bagging_d_preds)\n",
    "plt.plot(fpr2, tpr2, \"b:\", linewidth=2, label=\"Normal\")\n",
    "plot_roc_curve(fpr1, tpr1, 'Balanced')\n",
    "plt.legend(loc=\"lower right\", fontsize=16)\n",
    "plt.show()"
   ]
  },
  {
   "cell_type": "markdown",
   "metadata": {},
   "source": [
    "### Readmitted"
   ]
  },
  {
   "cell_type": "code",
   "execution_count": 94,
   "metadata": {},
   "outputs": [
    {
     "name": "stdout",
     "output_type": "stream",
     "text": [
      "Best training MSE:  0.8503152371965654\n",
      "Best parameters:  {'base_estimator': DecisionTreeClassifier(ccp_alpha=0.0, class_weight=None, criterion='gini',\n",
      "                       max_depth=None, max_features=None, max_leaf_nodes=None,\n",
      "                       min_impurity_decrease=0.0, min_impurity_split=None,\n",
      "                       min_samples_leaf=1, min_samples_split=2,\n",
      "                       min_weight_fraction_leaf=0.0, presort='deprecated',\n",
      "                       random_state=0, splitter='best'), 'bootstrap_features': True, 'n_estimators': 30}\n"
     ]
    }
   ],
   "source": [
    "grid_params = [\n",
    "    {'base_estimator': [LogisticRegression(), DecisionTreeClassifier(random_state=0)], \n",
    "     'n_estimators': [10, 20, 30],\n",
    "     'bootstrap_features': [True]}\n",
    "]\n",
    "bag_grid_r = GridSearchCV(BaggingClassifier(random_state=0), grid_params, cv=5)\n",
    "bag_grid_r.fit(train, train_yr)\n",
    "print(\"Best training accuracy: \", bag_grid_r.best_score_)\n",
    "print(\"Best parameters: \", bag_grid_r.best_params_)"
   ]
  },
  {
   "cell_type": "code",
   "execution_count": 101,
   "metadata": {},
   "outputs": [
    {
     "name": "stdout",
     "output_type": "stream",
     "text": [
      "Test accuracy:  0.8468244084682441 F1 score:  0.16610169491525423\n",
      "Test accuracy for balanced samples:  0.8840230098348487 F1 score:  0.8726309353984104\n"
     ]
    }
   ],
   "source": [
    "best_bagging_r = b_best_bagging_d = BaggingClassifier(base_estimator=DecisionTreeClassifier(ccp_alpha=0.0, class_weight=None, criterion='gini',\n",
    "                       max_depth=None, max_features=None, max_leaf_nodes=None,\n",
    "                       min_impurity_decrease=0.0, min_impurity_split=None,\n",
    "                       min_samples_leaf=1, min_samples_split=2,\n",
    "                       min_weight_fraction_leaf=0.0, presort='deprecated',\n",
    "                       random_state=0, splitter='best'), bootstrap_features=True, n_estimators=30)\n",
    "best_bagging_r.fit(train, train_yr)\n",
    "best_bagging_r_preds = best_bagging_r.predict(test)\n",
    "print(\"Test accuracy: \", accuracy_score(test_yr, best_bagging_r_preds), 'F1 score: ', f1_score(test_yr, best_bagging_r_preds))\n",
    "\n",
    "b_best_bagging_r = BaggingClassifier(base_estimator=DecisionTreeClassifier(ccp_alpha=0.0, class_weight=None, criterion='gini',\n",
    "                       max_depth=None, max_features=None, max_leaf_nodes=None,\n",
    "                       min_impurity_decrease=0.0, min_impurity_split=None,\n",
    "                       min_samples_leaf=1, min_samples_split=2,\n",
    "                       min_weight_fraction_leaf=0.0, presort='deprecated',\n",
    "                       random_state=0, splitter='best'), bootstrap_features=True, n_estimators=30)\n",
    "b_best_bagging_r.fit(b_train_r, b_train_yr)\n",
    "b_best_bagging_r_preds = b_best_bagging_r.predict(b_test_r)\n",
    "print(\"Test accuracy for balanced samples: \", accuracy_score(b_test_yr, b_best_bagging_r_preds), 'F1 score: ', f1_score(b_test_yr, b_best_bagging_r_preds))"
   ]
  },
  {
   "cell_type": "code",
   "execution_count": 103,
   "metadata": {},
   "outputs": [
    {
     "data": {
      "image/png": "[encoded data removed]",
      "text/plain": [
       "<Figure size 432x288 with 1 Axes>"
      ]
     },
     "metadata": {
      "needs_background": "light"
     },
     "output_type": "display_data"
    }
   ],
   "source": [
    "fpr1, tpr1, thresholds1 = roc_curve(b_test_yr, b_best_bagging_r_preds)\n",
    "fpr2, tpr2, thresholds2 = roc_curve(test_yr, best_bagging_r_preds)\n",
    "plt.plot(fpr2, tpr2, \"b:\", linewidth=2, label=\"Normal\")\n",
    "plot_roc_curve(fpr1, tpr1, 'Balanced')\n",
    "plt.legend(loc=\"lower right\", fontsize=16)\n",
    "plt.show()"
   ]
  },
  {
   "cell_type": "markdown",
   "metadata": {},
   "source": [
    "### 5. Random Forest"
   ]
  },
  {
   "cell_type": "markdown",
   "metadata": {},
   "source": [
    "### Death"
   ]
  },
  {
   "cell_type": "code",
   "execution_count": 152,
   "metadata": {},
   "outputs": [
    {
     "name": "stdout",
     "output_type": "stream",
     "text": [
      "Best training accuracy:  0.899976917239823\n",
      "Best parameters:  {'max_depth': None, 'max_features': 30, 'max_leaf_nodes': 4, 'min_samples_split': 2, 'n_estimators': 20}\n"
     ]
    }
   ],
   "source": [
    "from sklearn.ensemble import RandomForestClassifier\n",
    "\n",
    "grid_params = [\n",
    "    {'n_estimators': [10, 20, 30], 'max_depth': [None, 1, 5, 7], \n",
    "     'max_features':[10, 20, 30], 'max_leaf_nodes':[2, 4], \n",
    "     'min_samples_split':[2, 4]}\n",
    "]\n",
    "rf_grid_d = GridSearchCV(RandomForestClassifier(random_state=0), grid_params, cv=5)\n",
    "rf_grid_d.fit(train, train_yd)\n",
    "print(\"Best training accuracy: \", rf_grid_d.best_score_)\n",
    "print(\"Best parameters: \", rf_grid_d.best_params_)"
   ]
  },
  {
   "cell_type": "code",
   "execution_count": 66,
   "metadata": {},
   "outputs": [
    {
     "name": "stdout",
     "output_type": "stream",
     "text": [
      "Test error:  0.8838729763387297 - F1 score:  0.686817800167926\n",
      "Test error:  0.7561728395061729 - F1 score:  0.7021677662582471\n"
     ]
    }
   ],
   "source": [
    "best_rf_d = RandomForestClassifier(max_depth=None, max_features=30, max_leaf_nodes=4, min_samples_split=2, \n",
    "                                   n_estimators=20, random_state=0)\n",
    "best_rf_d.fit(train, train_yd)\n",
    "best_rf_d_preds = best_rf_d.predict(test)\n",
    "print(\"Test error: \", accuracy_score(test_yd, best_rf_d_preds), '- F1 score: ', f1_score(test_yd, best_rf_d_preds))\n",
    "\n",
    "b_best_rf_d = RandomForestClassifier(max_depth=None, max_features=30, max_leaf_nodes=4, min_samples_split=2, \n",
    "                                   n_estimators=20, random_state=0)\n",
    "b_best_rf_d.fit(b_train_d, b_train_yd)\n",
    "b_best_rf_d_preds = best_rf_d.predict(b_test_d)\n",
    "print(\"Test error: \", accuracy_score(b_test_yd, b_best_rf_d_preds), '- F1 score: ', f1_score(b_test_yd, b_best_rf_d_preds))"
   ]
  },
  {
   "cell_type": "code",
   "execution_count": 67,
   "metadata": {},
   "outputs": [
    {
     "data": {
      "image/png": "[encoded data removed]",
      "text/plain": [
       "<Figure size 432x288 with 1 Axes>"
      ]
     },
     "metadata": {
      "needs_background": "light"
     },
     "output_type": "display_data"
    }
   ],
   "source": [
    "fpr1, tpr1, thresholds1 = roc_curve(b_test_yd, b_best_rf_d_preds)\n",
    "fpr2, tpr2, thresholds2 = roc_curve(test_yd, best_rf_d_preds)\n",
    "plt.plot(fpr2, tpr2, \"b:\", linewidth=2, label=\"Normal\")\n",
    "plot_roc_curve(fpr1, tpr1, 'Balanced')\n",
    "plt.legend(loc=\"lower right\", fontsize=16)\n",
    "plt.show()"
   ]
  },
  {
   "cell_type": "markdown",
   "metadata": {},
   "source": [
    "### Readmitted"
   ]
  },
  {
   "cell_type": "code",
   "execution_count": 153,
   "metadata": {},
   "outputs": [
    {
     "name": "stdout",
     "output_type": "stream",
     "text": [
      "Best training accuracy:  0.8473573723215895\n",
      "Best parameters:  {'max_depth': None, 'max_features': 10, 'max_leaf_nodes': 2, 'min_samples_split': 2, 'n_estimators': 10}\n"
     ]
    }
   ],
   "source": [
    "grid_params = [\n",
    "    {'n_estimators': [10, 20, 30], 'max_depth': [None, 1, 5, 7], \n",
    "     'max_features':[10, 20, 30], 'max_leaf_nodes':[2, 4], \n",
    "     'min_samples_split':[2, 4]}\n",
    "]\n",
    "rf_grid_r = GridSearchCV(RandomForestClassifier(random_state=0), grid_params, cv=5)\n",
    "rf_grid_r.fit(train, train_yr)\n",
    "print(\"Best training accuracy: \", rf_grid_r.best_score_)\n",
    "print(\"Best parameters: \", rf_grid_r.best_params_)"
   ]
  },
  {
   "cell_type": "code",
   "execution_count": 144,
   "metadata": {},
   "outputs": [
    {
     "name": "stdout",
     "output_type": "stream",
     "text": [
      "Test Accuracy:  0.839975093399751 F1 score:  0.0\n"
     ]
    }
   ],
   "source": [
    "best_rf_r = RandomForestClassifier(max_depth=None, max_features=10, max_leaf_nodes=2, min_samples_split=2, \n",
    "                                   n_estimators=10, random_state=0)\n",
    "best_rf_r.fit(train, train_yr)\n",
    "print(\"Test Accuracy: \", accuracy_score(test_yr, best_rf_r.predict(test)), 'F1 score: ', f1_score(test_yr, best_rf_r.predict(test)))"
   ]
  },
  {
   "cell_type": "code",
   "execution_count": 145,
   "metadata": {},
   "outputs": [
    {
     "data": {
      "image/png": "[encoded data removed]",
      "text/plain": [
       "<Figure size 432x288 with 1 Axes>"
      ]
     },
     "metadata": {
      "needs_background": "light"
     },
     "output_type": "display_data"
    }
   ],
   "source": [
    "fpr, tpr, thresholds = roc_curve(test_yr, best_rf_r.predict(test))\n",
    "plot_roc_curve(fpr, tpr, 'Normal')\n",
    "plt.legend(loc=\"lower right\", fontsize=16)\n",
    "plt.show()"
   ]
  },
  {
   "cell_type": "markdown",
   "metadata": {},
   "source": [
    "### 6. SVM"
   ]
  },
  {
   "cell_type": "markdown",
   "metadata": {},
   "source": [
    "### Death"
   ]
  },
  {
   "cell_type": "code",
   "execution_count": null,
   "metadata": {},
   "outputs": [],
   "source": [
    "from sklearn.svm import SVC\n",
    "\n",
    "grid_params = {\"kernel\": [\"linear\", \"rbf\", \"poly\"],  \n",
    "          \"C\": [0.1, 0.5, 1], \n",
    "          \"tol\": [0.1], \n",
    "          \"decision_function_shape\":[\"ovr\"]}\n",
    "svc_grid_d = GridSearchCV(svm.SVC(), grid_params, cv=5)\n",
    "svc_grid_d.fit(train, train_yd)\n",
    "print(\"Best training accuracy: \", svc_grid_d.best_score_)\n",
    "print(\"Best parameters: \", svc_grid_d.best_params_)"
   ]
  },
  {
   "cell_type": "code",
   "execution_count": null,
   "metadata": {},
   "outputs": [],
   "source": [
    "best_svm_d = SVC()\n",
    "best_svm_d.fit(train, train_yd)\n",
    "print(\"Test error: \", accuracy_score(test_yd, best_svm_d.predict(test)))"
   ]
  },
  {
   "cell_type": "markdown",
   "metadata": {},
   "source": [
    "### Readmitted"
   ]
  },
  {
   "cell_type": "code",
   "execution_count": null,
   "metadata": {},
   "outputs": [],
   "source": [
    "from sklearn.svm import SVC\n",
    "\n",
    "grid_params = {\"kernel\": [\"linear\", \"rbf\", \"poly\"],  \n",
    "          \"C\": [0.1, 0.5, 1], \n",
    "          \"tol\": [0.1], \n",
    "          \"decision_function_shape\":[\"ovr\"]}\n",
    "svc_grid_r = GridSearchCV(svm.SVC(), grid_params, cv=5)\n",
    "svc_grid_r.fit(train, train_yr)\n",
    "print(\"Best training accuracy: \", svc_grid_r.best_score_)\n",
    "print(\"Best parameters: \", svc_grid_r.best_params_)"
   ]
  },
  {
   "cell_type": "code",
   "execution_count": null,
   "metadata": {},
   "outputs": [],
   "source": [
    "best_rf_r = RandomForestClassifier(random_state=0)\n",
    "best_rf_r.fit(train, train_yr)\n",
    "print(\"Test error: \", accuracy_score(test_yr, best_rf_r.predict(test)))"
   ]
  },
  {
   "cell_type": "markdown",
   "metadata": {},
   "source": [
    "### 7. XGBoost "
   ]
  },
  {
   "cell_type": "markdown",
   "metadata": {},
   "source": [
    "### Death"
   ]
  },
  {
   "cell_type": "code",
   "execution_count": 156,
   "metadata": {},
   "outputs": [
    {
     "name": "stdout",
     "output_type": "stream",
     "text": [
      "Best training accuracy:  0.918657716291067\n",
      "Best parameters:  {'eta': 0.3, 'max_depth': 9, 'num_class': 3, 'objective': 'multi:softprob', 'steps': 20}\n"
     ]
    }
   ],
   "source": [
    "import xgboost as xgb\n",
    "\n",
    "grid_params = {\n",
    "    'eta': [0.3], \n",
    "    'max_depth': [3, 6, 9],  \n",
    "    'objective': ['multi:softprob'],  \n",
    "    'num_class': [3, 6], 'steps': [20]} \n",
    "xgb_grid_d = GridSearchCV(xgb.XGBClassifier(), grid_params, cv=5)\n",
    "xgb_grid_d.fit(train, train_yd)\n",
    "print(\"Best training accuracy: \", xgb_grid_d.best_score_)\n",
    "print(\"Best parameters: \", xgb_grid_d.best_params_)"
   ]
  },
  {
   "cell_type": "code",
   "execution_count": 73,
   "metadata": {},
   "outputs": [
    {
     "name": "stdout",
     "output_type": "stream",
     "text": [
      "Test error:  0.9078455790784558 - F1 scores:  0.7465753424657534\n",
      "Test error:  0.9392361111111112 - F1 scores:  0.93841642228739\n"
     ]
    }
   ],
   "source": [
    "best_xgb_d = xgb.XGBClassifier(eta=0.3, max_depth=9, num_class=3, objective='multi:softprob', steps=20)\n",
    "best_xgb_d.fit(train, train_yd)\n",
    "best_xgb_d_preds = best_xgb_d.predict(test)\n",
    "print(\"Test error: \", accuracy_score(test_yd, best_xgb_d_preds), '- F1 scores: ', f1_score(test_yd, best_xgb_d_preds))\n",
    "\n",
    "b_best_xgb_d = xgb.XGBClassifier(eta=0.3, max_depth=9, num_class=3, objective='multi:softprob', steps=20)\n",
    "b_best_xgb_d.fit(b_train_d, b_train_yd)\n",
    "b_best_xgb_d_preds = b_best_xgb_d.predict(b_test_d)\n",
    "print(\"Test error: \", accuracy_score(b_test_yd, b_best_xgb_d_preds), '- F1 scores: ', f1_score(b_test_yd, b_best_xgb_d_preds))"
   ]
  },
  {
   "cell_type": "code",
   "execution_count": 75,
   "metadata": {},
   "outputs": [
    {
     "data": {
      "image/png": "[encoded data removed]",
      "text/plain": [
       "<Figure size 432x288 with 1 Axes>"
      ]
     },
     "metadata": {
      "needs_background": "light"
     },
     "output_type": "display_data"
    }
   ],
   "source": [
    "fpr1, tpr1, thresholds1 = roc_curve(b_test_yd, b_best_xgb_d_preds)\n",
    "fpr2, tpr2, thresholds2 = roc_curve(test_yd, best_xgb_d_preds)\n",
    "plt.plot(fpr2, tpr2, \"b:\", linewidth=2, label=\"Normal\")\n",
    "plot_roc_curve(fpr1, tpr1, 'Balanced')\n",
    "plt.legend(loc=\"lower right\", fontsize=16)\n",
    "plt.show()"
   ]
  },
  {
   "cell_type": "markdown",
   "metadata": {},
   "source": [
    "### Readmitted"
   ]
  },
  {
   "cell_type": "code",
   "execution_count": 90,
   "metadata": {},
   "outputs": [
    {
     "name": "stdout",
     "output_type": "stream",
     "text": [
      "Best training MSE:  0.8530395784518495\n",
      "Best parameters:  {'eta': 0.3, 'max_depth': 6, 'num_class': 3, 'objective': 'multi:softprob', 'steps': 20}\n"
     ]
    }
   ],
   "source": [
    "grid_params = {\n",
    "    'eta': [0.3], \n",
    "    'max_depth': [3, 6, 9],  \n",
    "    'objective': ['multi:softprob'],  \n",
    "    'num_class': [3, 6], 'steps': [20]} \n",
    "xgb_grid_r = GridSearchCV(xgb.XGBClassifier(), grid_params, cv=5)\n",
    "xgb_grid_r.fit(train, train_yr)\n",
    "print(\"Best training accuracy: \", xgb_grid_r.best_score_)\n",
    "print(\"Best parameters: \", xgb_grid_r.best_params_)"
   ]
  },
  {
   "cell_type": "code",
   "execution_count": 91,
   "metadata": {},
   "outputs": [
    {
     "name": "stdout",
     "output_type": "stream",
     "text": [
      "Test accuracy:  0.8493150684931506 - F1 score:  0.22186495176848872\n",
      "Test accuracy for balanced samples:  0.7656336982742624 - F1 scores:  0.7548048922539313\n"
     ]
    }
   ],
   "source": [
    "best_xgb_r = xgb.XGBClassifier(eta=0.3, max_depth=6, num_class=3, objective='multi:softprob', steps=20)\n",
    "best_xgb_r.fit(train, train_yr)\n",
    "best_xgb_r_preds = best_xgb_r.predict(test)\n",
    "print(\"Test accuracy: \", accuracy_score(test_yr, best_xgb_r_preds), '- F1 score: ', f1_score(test_yr, best_xgb_r_preds))\n",
    "\n",
    "b_best_xgb_r = xgb.XGBClassifier(eta=0.3, max_depth=6, num_class=3, objective='multi:softprob', steps=20)\n",
    "b_best_xgb_r.fit(b_train_r, b_train_yr)\n",
    "b_best_xgb_r_preds = b_best_xgb_d.predict(b_test_r)\n",
    "print(\"Test accuracy for balanced samples: \", accuracy_score(b_test_yr, b_best_xgb_r_preds), '- F1 scores: ', f1_score(b_test_yr, b_best_xgb_r_preds))\n"
   ]
  },
  {
   "cell_type": "code",
   "execution_count": 92,
   "metadata": {},
   "outputs": [
    {
     "data": {
      "image/png": "[encoded data removed]",
      "text/plain": [
       "<Figure size 432x288 with 1 Axes>"
      ]
     },
     "metadata": {
      "needs_background": "light"
     },
     "output_type": "display_data"
    }
   ],
   "source": [
    "fpr1, tpr1, thresholds1 = roc_curve(b_test_yr, b_best_xgb_r_preds)\n",
    "fpr2, tpr2, thresholds2 = roc_curve(test_yr, best_xgb_r_preds)\n",
    "plt.plot(fpr2, tpr2, \"b:\", linewidth=2, label=\"Normal\")\n",
    "plot_roc_curve(fpr1, tpr1, 'Balanced')\n",
    "plt.legend(loc=\"lower right\", fontsize=16)\n",
    "plt.show()"
   ]
  },
  {
   "cell_type": "markdown",
   "metadata": {},
   "source": [
    "### 8. QDA"
   ]
  },
  {
   "cell_type": "markdown",
   "metadata": {},
   "source": [
    "### Death"
   ]
  },
  {
   "cell_type": "code",
   "execution_count": 147,
   "metadata": {},
   "outputs": [
    {
     "name": "stdout",
     "output_type": "stream",
     "text": [
      "Best training accuracy:  0.869853157900317\n",
      "Best parameters:  {}\n"
     ]
    }
   ],
   "source": [
    "from sklearn.discriminant_analysis import QuadraticDiscriminantAnalysis\n",
    "\n",
    "grid_params = {} \n",
    "qda_grid_d = GridSearchCV(QuadraticDiscriminantAnalysis(), grid_params, cv=5)\n",
    "qda_grid_d.fit(train, train_yd)\n",
    "print(\"Best training accuracy: \", qda_grid_d.best_score_)\n",
    "print(\"Best parameters: \", qda_grid_d.best_params_)"
   ]
  },
  {
   "cell_type": "code",
   "execution_count": null,
   "metadata": {},
   "outputs": [],
   "source": [
    "best_qda_d = QDA()\n",
    "best_qda_d.fit(train, train_yd)\n",
    "print(\"Test error: \", accuracy_score(test_yd, best_xgb_d.predict(test)))"
   ]
  },
  {
   "cell_type": "markdown",
   "metadata": {},
   "source": [
    "### Readmitted"
   ]
  },
  {
   "cell_type": "code",
   "execution_count": null,
   "metadata": {},
   "outputs": [],
   "source": [
    "grid_params = {} \n",
    "qda_grid_r = GridSearchCV(QDA(), grid_params, cv=5)\n",
    "qda_grid_r.fit(train, train_yr)\n",
    "print(\"Best training accuracy: \", qda_grid_r.best_score_)\n",
    "print(\"Best parameters: \", qda_grid_r.best_params_)"
   ]
  },
  {
   "cell_type": "code",
   "execution_count": null,
   "metadata": {},
   "outputs": [],
   "source": [
    "best_qda_r = QDA()\n",
    "best_qda_r.fit(train, train_yr)\n",
    "print(\"Test error: \", accuracy_score(test_yr, best_xgb_r.predict(test)))"
   ]
  },
  {
   "cell_type": "markdown",
   "metadata": {},
   "source": [
    "### 9.LDA"
   ]
  },
  {
   "cell_type": "markdown",
   "metadata": {},
   "source": [
    "### Death"
   ]
  },
  {
   "cell_type": "code",
   "execution_count": 148,
   "metadata": {},
   "outputs": [
    {
     "name": "stdout",
     "output_type": "stream",
     "text": [
      "Best training accuracy:  0.9145322030252956\n",
      "Best parameters:  {'n_components': None, 'tol': 0.0001}\n"
     ]
    }
   ],
   "source": [
    "from sklearn.discriminant_analysis import LinearDiscriminantAnalysis\n",
    "\n",
    "grid_params = {'n_components': [None, 1, 3, 5], 'tol': [0.0001, 0.001, 0.01]} \n",
    "lda_grid_d = GridSearchCV(LinearDiscriminantAnalysis(), grid_params, cv=5)\n",
    "lda_grid_d.fit(train, train_yd)\n",
    "print(\"Best training accuracy: \", lda_grid_d.best_score_)\n",
    "print(\"Best parameters: \", lda_grid_d.best_params_)"
   ]
  },
  {
   "cell_type": "code",
   "execution_count": 80,
   "metadata": {},
   "outputs": [
    {
     "name": "stdout",
     "output_type": "stream",
     "text": [
      "Test accuracy:  0.9041095890410958 - F1 score:  0.7403035413153457\n",
      "Test accuracy:  0.9232253086419753 - F1 score:  0.9204318272690925\n"
     ]
    }
   ],
   "source": [
    "best_lda_d = LinearDiscriminantAnalysis(n_components=None, tol=0.0001)\n",
    "best_lda_d.fit(train, train_yd)\n",
    "best_lda_d_preds = best_lda_d.predict(test)\n",
    "print(\"Test accuracy: \", accuracy_score(test_yd, best_lda_d_preds), '- F1 score: ', f1_score(test_yd, best_lda_d_preds))\n",
    "\n",
    "b_best_lda_d = LinearDiscriminantAnalysis(n_components=None, tol=0.0001)\n",
    "b_best_lda_d.fit(b_train_d, b_train_yd)\n",
    "b_best_lda_d_preds = b_best_lda_d.predict(b_test_d)\n",
    "print(\"Test accuracy: \", accuracy_score(b_test_yd, b_best_lda_d_preds), '- F1 score: ', f1_score(b_test_yd, b_best_lda_d_preds))"
   ]
  },
  {
   "cell_type": "code",
   "execution_count": 83,
   "metadata": {},
   "outputs": [
    {
     "data": {
      "image/png": "[encoded data removed]",
      "text/plain": [
       "<Figure size 432x288 with 1 Axes>"
      ]
     },
     "metadata": {
      "needs_background": "light"
     },
     "output_type": "display_data"
    }
   ],
   "source": [
    "fpr1, tpr1, thresholds1 = roc_curve(b_test_yd, b_best_lda_d_preds)\n",
    "fpr2, tpr2, thresholds2 = roc_curve(test_yd, best_lda_d_preds)\n",
    "plt.plot(fpr2, tpr2, \"b:\", linewidth=2, label=\"Normal\")\n",
    "plot_roc_curve(fpr1, tpr1, 'Balanced')\n",
    "plt.legend(loc=\"lower right\", fontsize=16)\n",
    "plt.show()"
   ]
  },
  {
   "cell_type": "markdown",
   "metadata": {},
   "source": [
    "### Readmitted"
   ]
  },
  {
   "cell_type": "code",
   "execution_count": 149,
   "metadata": {},
   "outputs": [
    {
     "name": "stdout",
     "output_type": "stream",
     "text": [
      "Best training accuracy:  0.8492257733254774\n",
      "Best parameters:  {'n_components': None, 'tol': 0.0001}\n"
     ]
    }
   ],
   "source": [
    "grid_params = {'n_components': [None, 1, 3, 5], 'tol': [0.0001, 0.001, 0.01]} \n",
    "lda_grid_r = GridSearchCV(LinearDiscriminantAnalysis(), grid_params, cv=5)\n",
    "lda_grid_r.fit(train, train_yr)\n",
    "print(\"Best training accuracy: \", lda_grid_r.best_score_)\n",
    "print(\"Best parameters: \", lda_grid_r.best_params_)"
   ]
  },
  {
   "cell_type": "code",
   "execution_count": 151,
   "metadata": {},
   "outputs": [
    {
     "name": "stdout",
     "output_type": "stream",
     "text": [
      "Test accuracy:  0.8452677459526775 - F1 score:  0.1265377855887522\n",
      "Test accuracy:  0.8875487103358694 - F1 score:  0.8734864300626304\n"
     ]
    }
   ],
   "source": [
    "best_lda_r = LinearDiscriminantAnalysis(n_components=None, tol=0.0001)\n",
    "best_lda_r.fit(train, train_yr)\n",
    "best_lda_r_preds = best_lda_r.predict(test)\n",
    "print(\"Test accuracy: \", accuracy_score(test_yr, best_lda_r_preds), '- F1 score: ', f1_score(test_yr, best_lda_r_preds))\n",
    "\n",
    "b_best_lda_r = LinearDiscriminantAnalysis(n_components=None, tol=0.0001)\n",
    "b_best_lda_r.fit(b_train_r, b_train_yr)\n",
    "b_best_lda_r_preds = b_best_lda_r.predict(b_test_r)\n",
    "print(\"Test accuracy: \", accuracy_score(b_test_yr, b_best_lda_r_preds), '- F1 score: ', f1_score(b_test_yr, b_best_lda_r_preds))"
   ]
  },
  {
   "cell_type": "code",
   "execution_count": 89,
   "metadata": {},
   "outputs": [
    {
     "data": {
      "image/png": "[encoded data removed]",
      "text/plain": [
       "<Figure size 432x288 with 1 Axes>"
      ]
     },
     "metadata": {
      "needs_background": "light"
     },
     "output_type": "display_data"
    }
   ],
   "source": [
    "fpr1, tpr1, thresholds1 = roc_curve(b_test_yr, b_best_lda_r_preds)\n",
    "fpr2, tpr2, thresholds2 = roc_curve(test_yr, best_lda_r_preds)\n",
    "plt.plot(fpr2, tpr2, \"b:\", linewidth=2, label=\"Normal\")\n",
    "plot_roc_curve(fpr1, tpr1, 'Balanced')\n",
    "plt.legend(loc=\"lower right\", fontsize=16)\n",
    "plt.show()"
   ]
  },
  {
   "cell_type": "code",
   "execution_count": null,
   "metadata": {},
   "outputs": [],
   "source": []
  }
 ],
 "metadata": {
  "kernelspec": {
   "display_name": "Python 3",
   "language": "python",
   "name": "python3"
  },
  "language_info": {
   "codemirror_mode": {
    "name": "ipython",
    "version": 3
   },
   "file_extension": ".py",
   "mimetype": "text/x-python",
   "name": "python",
   "nbconvert_exporter": "python",
   "pygments_lexer": "ipython3",
   "version": "3.7.5"
  }
 },
 "nbformat": 4,
 "nbformat_minor": 2
}
